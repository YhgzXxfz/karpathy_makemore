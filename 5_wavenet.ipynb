{
 "cells": [
  {
   "cell_type": "code",
   "execution_count": 1,
   "metadata": {},
   "outputs": [],
   "source": [
    "import torch\n",
    "import torch.nn.functional as F\n",
    "import matplotlib.pyplot as plt\n",
    "%matplotlib inline"
   ]
  },
  {
   "cell_type": "code",
   "execution_count": 2,
   "metadata": {},
   "outputs": [],
   "source": [
    "with open(\"names.txt\", \"r\") as fp:\n",
    "    words = fp.read().splitlines()"
   ]
  },
  {
   "cell_type": "code",
   "execution_count": 3,
   "metadata": {},
   "outputs": [
    {
     "name": "stdout",
     "output_type": "stream",
     "text": [
      "{1: 'a', 2: 'b', 3: 'c', 4: 'd', 5: 'e', 6: 'f', 7: 'g', 8: 'h', 9: 'i', 10: 'j', 11: 'k', 12: 'l', 13: 'm', 14: 'n', 15: 'o', 16: 'p', 17: 'q', 18: 'r', 19: 's', 20: 't', 21: 'u', 22: 'v', 23: 'w', 24: 'x', 25: 'y', 26: 'z', 0: '.'}\n",
      "27\n"
     ]
    }
   ],
   "source": [
    "alphabet = sorted(list(set(\"\".join(w for w in words))))\n",
    "stoi = {ch: i + 1 for i, ch in enumerate(alphabet)}\n",
    "stoi[\".\"] = 0\n",
    "itos = {i: ch for ch, i in stoi.items()}\n",
    "vocab_size = len(itos)\n",
    "print(itos)\n",
    "print(vocab_size)"
   ]
  },
  {
   "cell_type": "code",
   "execution_count": 14,
   "metadata": {},
   "outputs": [],
   "source": [
    "block_size = 8"
   ]
  },
  {
   "cell_type": "code",
   "execution_count": 15,
   "metadata": {},
   "outputs": [
    {
     "name": "stdout",
     "output_type": "stream",
     "text": [
      "torch.Size([182580, 8]) torch.Size([182580])\n",
      "torch.Size([22767, 8]) torch.Size([22767])\n",
      "torch.Size([22799, 8]) torch.Size([22799])\n"
     ]
    }
   ],
   "source": [
    "import typing as tp\n",
    "\n",
    "\n",
    "def build_dataset(words: tp.List, block_size: int):\n",
    "    X, Y = [], []\n",
    "    for w in words:\n",
    "        window = [0] * block_size\n",
    "        for ch in w + \".\":\n",
    "            ix = stoi[ch]\n",
    "            X.append(window)\n",
    "            Y.append(ix)\n",
    "            window = window[1:] + [ix]\n",
    "\n",
    "    X = torch.tensor(X)\n",
    "    Y = torch.tensor(Y)\n",
    "    print(X.shape, Y.shape)\n",
    "    return X, Y\n",
    "\n",
    "\n",
    "import random\n",
    "\n",
    "random.seed(42)\n",
    "random.shuffle(words)\n",
    "\n",
    "train_size = int(0.8 * len(words))\n",
    "validation_size = int(0.9 * len(words))\n",
    "Xtr, Ytr = build_dataset(words[:train_size], block_size)\n",
    "Xval, Yval = build_dataset(words[train_size:validation_size], block_size)\n",
    "Xtest, Ytest = build_dataset(words[validation_size:], block_size)"
   ]
  },
  {
   "cell_type": "code",
   "execution_count": 6,
   "metadata": {},
   "outputs": [],
   "source": [
    "import typing as tp\n",
    "\n",
    "\n",
    "class Linear:\n",
    "    def __init__(self, fan_in: int, fan_out: int, bias: bool = True) -> None:\n",
    "        self.weight = torch.randn((fan_in, fan_out)) / fan_in**0.5  # kaiming_init\n",
    "        self.bias = torch.randn(fan_out) if bias else None\n",
    "\n",
    "    def __call__(self, x) -> tp.Any:\n",
    "        self.out = x @ self.weight\n",
    "        if self.bias is not None:\n",
    "            self.out += self.bias\n",
    "        return self.out\n",
    "\n",
    "    def parameters(self) -> tp.List:\n",
    "        return [self.weight] + ([] if self.bias is None else [self.bias])\n",
    "\n",
    "\n",
    "# ------------------------------------------------------------------------\n",
    "class BatchNorm1d:\n",
    "    def __init__(self, dim: int, eps=1e-5, momentum=0.1) -> None:\n",
    "        self.eps = eps\n",
    "        self.momentum = momentum\n",
    "        self.training: bool = True\n",
    "\n",
    "        self.gamma = torch.ones(dim)\n",
    "        self.beta = torch.zeros(dim)\n",
    "\n",
    "        # buffers\n",
    "        self.running_mean = torch.zeros(dim)\n",
    "        self.running_var = torch.ones(dim)\n",
    "\n",
    "    def __call__(self, x) -> tp.Any:\n",
    "        if self.training:\n",
    "            xmean = x.mean(0, keepdim=True)\n",
    "            xvar = x.var(0, keepdim=True)\n",
    "        else:\n",
    "            xmean = self.running_mean\n",
    "            xvar = self.running_var\n",
    "\n",
    "        xhat = (x - xmean) / torch.sqrt(xvar + self.eps)\n",
    "        self.out = self.gamma * xhat + self.beta\n",
    "\n",
    "        if self.training:\n",
    "            with torch.no_grad():\n",
    "                self.running_mean = (1 - self.momentum) * self.running_mean + self.momentum * xmean\n",
    "                self.running_var = (1 - self.momentum) * self.running_var + self.momentum * xvar\n",
    "\n",
    "        return self.out\n",
    "\n",
    "    def parameters(self) -> tp.List:\n",
    "        return [self.gamma, self.beta]\n",
    "\n",
    "\n",
    "# ------------------------------------------------------------------------\n",
    "class Tanh:\n",
    "    def __call__(self, x) -> tp.Any:\n",
    "        self.out = torch.tanh(x)\n",
    "        return self.out\n",
    "\n",
    "    def parameters(self) -> tp.List:\n",
    "        return []\n",
    "\n",
    "\n",
    "# ------------------------------------------------------------------------\n",
    "class Embedding:\n",
    "    def __init__(self, num_embeddings: int, embedding_dim: int) -> None:\n",
    "        self.weight = torch.randn((num_embeddings, embedding_dim))\n",
    "\n",
    "    def __call__(self, x) -> tp.Any:\n",
    "        return self.weight[x]\n",
    "\n",
    "    def parameters(self) -> tp.List:\n",
    "        return [self.weight]\n",
    "\n",
    "\n",
    "# ------------------------------------------------------------------------\n",
    "class Flatten:\n",
    "    def __call__(self, x) -> tp.Any:\n",
    "        return x.view(x.shape[0], -1)\n",
    "\n",
    "    def parameters(self) -> tp.List:\n",
    "        return []\n",
    "\n",
    "\n",
    "# ------------------------------------------------------------------------\n",
    "class Sequential:\n",
    "    def __init__(self, layers: tp.List) -> None:\n",
    "        self.layers = layers\n",
    "\n",
    "    def __call__(self, x) -> tp.Any:\n",
    "        for layer in self.layers:\n",
    "            x = layer(x)\n",
    "        self.out = x\n",
    "        return self.out\n",
    "\n",
    "    def parameters(self) -> tp.List:\n",
    "        return [p for layer in self.layers for p in layer.parameters()]"
   ]
  },
  {
   "cell_type": "code",
   "execution_count": 16,
   "metadata": {},
   "outputs": [
    {
     "data": {
      "text/plain": [
       "<torch._C.Generator at 0x115893cf0>"
      ]
     },
     "execution_count": 16,
     "metadata": {},
     "output_type": "execute_result"
    }
   ],
   "source": [
    "torch.manual_seed(42)"
   ]
  },
  {
   "cell_type": "code",
   "execution_count": 17,
   "metadata": {},
   "outputs": [
    {
     "name": "stdout",
     "output_type": "stream",
     "text": [
      "22097 in total.\n"
     ]
    }
   ],
   "source": [
    "n_embed = 10\n",
    "n_hidden = 200\n",
    "\n",
    "model = Sequential(\n",
    "    [\n",
    "        Embedding(vocab_size, n_embed),\n",
    "        Flatten(),\n",
    "        Linear(n_embed * block_size, n_hidden, bias=False),\n",
    "        BatchNorm1d(dim=n_hidden),\n",
    "        Tanh(),\n",
    "        Linear(n_hidden, vocab_size),\n",
    "    ]\n",
    ")\n",
    "\n",
    "with torch.no_grad():\n",
    "    model.layers[-1].weight *= 0.1  # last layer makes less confident\n",
    "\n",
    "\n",
    "parameters = model.parameters()\n",
    "print(f\"{sum(p.nelement() for p in parameters)} in total.\")\n",
    "for p in parameters:\n",
    "    p.requires_grad = True"
   ]
  },
  {
   "cell_type": "code",
   "execution_count": 18,
   "metadata": {},
   "outputs": [
    {
     "name": "stdout",
     "output_type": "stream",
     "text": [
      "0/ 200000: 4.029616\n",
      "10000/ 200000: 1.866762\n",
      "20000/ 200000: 2.321240\n",
      "30000/ 200000: 2.210854\n",
      "40000/ 200000: 2.352341\n",
      "50000/ 200000: 2.240132\n",
      "60000/ 200000: 2.501758\n",
      "70000/ 200000: 2.174589\n",
      "80000/ 200000: 2.178543\n",
      "90000/ 200000: 2.144901\n",
      "100000/ 200000: 1.902877\n",
      "110000/ 200000: 2.311360\n",
      "120000/ 200000: 1.871426\n",
      "130000/ 200000: 2.053207\n",
      "140000/ 200000: 2.109725\n",
      "150000/ 200000: 1.824993\n",
      "160000/ 200000: 1.488136\n",
      "170000/ 200000: 1.865763\n",
      "180000/ 200000: 2.361552\n",
      "190000/ 200000: 2.094084\n"
     ]
    }
   ],
   "source": [
    "# Training Loop\n",
    "epochs = 200_000\n",
    "batch_size = 32\n",
    "lossi = []\n",
    "\n",
    "for epoch in range(epochs):\n",
    "    ix = torch.randint(0, Xtr.shape[0], (batch_size,))\n",
    "    Xb, Yb = Xtr[ix], Ytr[ix]\n",
    "\n",
    "    logits = model(Xb)\n",
    "    loss = F.cross_entropy(logits, Yb)\n",
    "\n",
    "    for p in parameters:\n",
    "        p.grad = None\n",
    "    loss.backward()\n",
    "\n",
    "    lr = 0.1 if epoch < 150_000 else 0.01\n",
    "    for p in parameters:\n",
    "        p.data += -lr * p.grad\n",
    "\n",
    "    if epoch % 10000 == 0:\n",
    "        print(f\"{epoch}/{epochs:7d}: {loss.item():4f}\")\n",
    "\n",
    "    lossi.append(loss.log10().item())"
   ]
  },
  {
   "cell_type": "code",
   "execution_count": 19,
   "metadata": {},
   "outputs": [
    {
     "data": {
      "text/plain": [
       "[<matplotlib.lines.Line2D at 0x147e1ab60>]"
      ]
     },
     "execution_count": 19,
     "metadata": {},
     "output_type": "execute_result"
    },
    {
     "data": {
      "image/png": "[encoded data removed]",
      "text/plain": [
       "<Figure size 640x480 with 1 Axes>"
      ]
     },
     "metadata": {},
     "output_type": "display_data"
    }
   ],
   "source": [
    "plt.plot(torch.tensor(lossi).view(-1, 1000).mean(dim=1))"
   ]
  },
  {
   "cell_type": "code",
   "execution_count": 20,
   "metadata": {},
   "outputs": [],
   "source": [
    "for layer in model.layers:\n",
    "    layer.training = False"
   ]
  },
  {
   "cell_type": "code",
   "execution_count": 21,
   "metadata": {},
   "outputs": [
    {
     "name": "stdout",
     "output_type": "stream",
     "text": [
      "train 1.9175070524215698\n",
      "val 2.0263478755950928\n"
     ]
    }
   ],
   "source": [
    "# Evaluation\n",
    "\n",
    "\n",
    "@torch.no_grad()\n",
    "def split_loss(split: str):\n",
    "    x, y = {\"train\": (Xtr, Ytr), \"val\": (Xval, Yval), \"test\": (Xtest, Ytest)}[split]\n",
    "    logits = model(x)\n",
    "    loss = F.cross_entropy(logits, y)\n",
    "    print(split, loss.item())\n",
    "\n",
    "\n",
    "split_loss(\"train\")\n",
    "split_loss(\"val\")"
   ]
  },
  {
   "cell_type": "markdown",
   "metadata": {},
   "source": [
    "#### Performance Log\n",
    "\n",
    "- original (3 character context + 200 hidden neurons, 12K params): train 2.059, val 2.108\n",
    "- context: 3 -> 8 (22K params): train 1.917, val 2.026\n"
   ]
  },
  {
   "cell_type": "code",
   "execution_count": 22,
   "metadata": {},
   "outputs": [
    {
     "name": "stdout",
     "output_type": "stream",
     "text": [
      "carmah.\n",
      "amelia.\n",
      "khisming.\n",
      "taty.\n",
      "skarlen.\n",
      "jazhuel.\n",
      "deliah.\n",
      "jarqui.\n",
      "nellara.\n",
      "chaiir.\n"
     ]
    }
   ],
   "source": [
    "# Sample\n",
    "\n",
    "import torch\n",
    "\n",
    "g = torch.Generator().manual_seed(2147483647 + 10)\n",
    "\n",
    "for _ in range(10):\n",
    "    output = []\n",
    "    context = [0] * block_size  # initialize with all \"...\"\n",
    "\n",
    "    while True:\n",
    "        logits = model(torch.tensor([context]))  # (1, block_size, embedding_size)\n",
    "        probs = F.softmax(logits, dim=1)\n",
    "\n",
    "        ix = torch.multinomial(probs, num_samples=1, replacement=True, generator=g).item()\n",
    "        context = context[1:] + [ix]\n",
    "\n",
    "        output.append(ix)\n",
    "\n",
    "        if ix == 0:\n",
    "            break\n",
    "\n",
    "    print(\"\".join(itos[i] for i in output))"
   ]
  }
 ],
 "metadata": {
  "kernelspec": {
   "display_name": "karpathy-nlp",
   "language": "python",
   "name": "python3"
  },
  "language_info": {
   "codemirror_mode": {
    "name": "ipython",
    "version": 3
   },
   "file_extension": ".py",
   "mimetype": "text/x-python",
   "name": "python",
   "nbconvert_exporter": "python",
   "pygments_lexer": "ipython3",
   "version": "3.10.13"
  }
 },
 "nbformat": 4,
 "nbformat_minor": 2
}
