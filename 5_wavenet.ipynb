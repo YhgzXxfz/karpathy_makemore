{
 "cells": [
  {
   "cell_type": "markdown",
   "metadata": {},
   "source": [
    "## Performance Log\n",
    "\n",
    "- original (3 character context + 200 hidden neurons, 12K params): train 2.059, val 2.108\n",
    "- context: 3 -> 8 (22K params): train 1.918, val 2.030\n",
    "- shallow mlp -> deep WaveNet (22K params): train 1.936, val 2.025\n",
    "- fixed WaveNet (22K params): train 1.908, val 2.021\n",
    "- Scaled WaveNet (77K params): train 1.764, val 1.986"
   ]
  },
  {
   "cell_type": "code",
   "execution_count": 1,
   "metadata": {},
   "outputs": [],
   "source": [
    "import torch\n",
    "import torch.nn.functional as F\n",
    "import matplotlib.pyplot as plt\n",
    "%matplotlib inline"
   ]
  },
  {
   "cell_type": "code",
   "execution_count": 2,
   "metadata": {},
   "outputs": [],
   "source": [
    "with open(\"names.txt\", \"r\") as fp:\n",
    "    words = fp.read().splitlines()"
   ]
  },
  {
   "cell_type": "code",
   "execution_count": 3,
   "metadata": {},
   "outputs": [
    {
     "name": "stdout",
     "output_type": "stream",
     "text": [
      "{1: 'a', 2: 'b', 3: 'c', 4: 'd', 5: 'e', 6: 'f', 7: 'g', 8: 'h', 9: 'i', 10: 'j', 11: 'k', 12: 'l', 13: 'm', 14: 'n', 15: 'o', 16: 'p', 17: 'q', 18: 'r', 19: 's', 20: 't', 21: 'u', 22: 'v', 23: 'w', 24: 'x', 25: 'y', 26: 'z', 0: '.'}\n",
      "27\n"
     ]
    }
   ],
   "source": [
    "alphabet = sorted(list(set(\"\".join(w for w in words))))\n",
    "stoi = {ch: i + 1 for i, ch in enumerate(alphabet)}\n",
    "stoi[\".\"] = 0\n",
    "itos = {i: ch for ch, i in stoi.items()}\n",
    "vocab_size = len(itos)\n",
    "print(itos)\n",
    "print(vocab_size)"
   ]
  },
  {
   "cell_type": "markdown",
   "metadata": {},
   "source": [
    "## Data"
   ]
  },
  {
   "cell_type": "code",
   "execution_count": 4,
   "metadata": {},
   "outputs": [],
   "source": [
    "block_size = 8"
   ]
  },
  {
   "cell_type": "code",
   "execution_count": 5,
   "metadata": {},
   "outputs": [
    {
     "name": "stdout",
     "output_type": "stream",
     "text": [
      "torch.Size([182625, 8]) torch.Size([182625])\n",
      "torch.Size([22655, 8]) torch.Size([22655])\n",
      "torch.Size([22866, 8]) torch.Size([22866])\n"
     ]
    }
   ],
   "source": [
    "import typing as tp\n",
    "\n",
    "\n",
    "def build_dataset(words: tp.List, block_size: int):\n",
    "    X, Y = [], []\n",
    "    for w in words:\n",
    "        window = [0] * block_size\n",
    "        for ch in w + \".\":\n",
    "            ix = stoi[ch]\n",
    "            X.append(window)\n",
    "            Y.append(ix)\n",
    "            window = window[1:] + [ix]\n",
    "\n",
    "    X = torch.tensor(X)\n",
    "    Y = torch.tensor(Y)\n",
    "    print(X.shape, Y.shape)\n",
    "    return X, Y\n",
    "\n",
    "\n",
    "import random\n",
    "\n",
    "random.seed(42)\n",
    "random.shuffle(words)\n",
    "\n",
    "train_size = int(0.8 * len(words))\n",
    "validation_size = int(0.9 * len(words))\n",
    "Xtr, Ytr = build_dataset(words[:train_size], block_size)\n",
    "Xval, Yval = build_dataset(words[train_size:validation_size], block_size)\n",
    "Xtest, Ytest = build_dataset(words[validation_size:], block_size)"
   ]
  },
  {
   "cell_type": "code",
   "execution_count": 45,
   "metadata": {},
   "outputs": [],
   "source": [
    "import typing as tp\n",
    "\n",
    "\n",
    "class Linear:\n",
    "    def __init__(self, fan_in: int, fan_out: int, bias: bool = True) -> None:\n",
    "        self.weight = torch.randn((fan_in, fan_out)) / fan_in**0.5  # kaiming_init\n",
    "        self.bias = torch.randn(fan_out) if bias else None\n",
    "\n",
    "    def __call__(self, x) -> tp.Any:\n",
    "        self.out = x @ self.weight\n",
    "        if self.bias is not None:\n",
    "            self.out += self.bias\n",
    "        return self.out\n",
    "\n",
    "    def parameters(self) -> tp.List:\n",
    "        return [self.weight] + ([] if self.bias is None else [self.bias])\n",
    "\n",
    "\n",
    "# ------------------------------------------------------------------------\n",
    "class BatchNorm1d:\n",
    "    def __init__(self, dim: int, eps=1e-5, momentum=0.1) -> None:\n",
    "        self.eps = eps\n",
    "        self.momentum = momentum\n",
    "        self.training: bool = True\n",
    "\n",
    "        self.gamma = torch.ones(dim)\n",
    "        self.beta = torch.zeros(dim)\n",
    "\n",
    "        # buffers\n",
    "        self.running_mean = torch.zeros(dim)\n",
    "        self.running_var = torch.ones(dim)\n",
    "\n",
    "    def __call__(self, x) -> tp.Any:\n",
    "        if self.training:\n",
    "            xmean = x.mean(0, keepdim=True)\n",
    "            xvar = x.var(0, keepdim=True)\n",
    "        else:\n",
    "            xmean = self.running_mean\n",
    "            xvar = self.running_var\n",
    "\n",
    "        xhat = (x - xmean) / torch.sqrt(xvar + self.eps)\n",
    "        self.out = self.gamma * xhat + self.beta\n",
    "\n",
    "        if self.training:\n",
    "            with torch.no_grad():\n",
    "                self.running_mean = (1 - self.momentum) * self.running_mean + self.momentum * xmean\n",
    "                self.running_var = (1 - self.momentum) * self.running_var + self.momentum * xvar\n",
    "\n",
    "        return self.out\n",
    "\n",
    "    def parameters(self) -> tp.List:\n",
    "        return [self.gamma, self.beta]\n",
    "\n",
    "\n",
    "# ------------------------------------------------------------------------\n",
    "class Tanh:\n",
    "    def __call__(self, x) -> tp.Any:\n",
    "        self.out = torch.tanh(x)\n",
    "        return self.out\n",
    "\n",
    "    def parameters(self) -> tp.List:\n",
    "        return []\n",
    "\n",
    "\n",
    "# ------------------------------------------------------------------------\n",
    "class Embedding:\n",
    "    def __init__(self, num_embeddings: int, embedding_dim: int) -> None:\n",
    "        self.weight = torch.randn((num_embeddings, embedding_dim))\n",
    "\n",
    "    def __call__(self, x) -> tp.Any:\n",
    "        self.out = self.weight[x]\n",
    "        return self.out\n",
    "\n",
    "    def parameters(self) -> tp.List:\n",
    "        return [self.weight]\n",
    "\n",
    "\n",
    "# ------------------------------------------------------------------------\n",
    "class Flatten:\n",
    "    def __call__(self, x) -> tp.Any:\n",
    "        self.out = x.view(x.shape[0], -1)\n",
    "        return self.out\n",
    "\n",
    "    def parameters(self) -> tp.List:\n",
    "        return []\n",
    "\n",
    "\n",
    "# ------------------------------------------------------------------------\n",
    "class Sequential:\n",
    "    def __init__(self, layers: tp.List) -> None:\n",
    "        self.layers = layers\n",
    "\n",
    "    def __call__(self, x) -> tp.Any:\n",
    "        for layer in self.layers:\n",
    "            x = layer(x)\n",
    "        self.out = x\n",
    "        return self.out\n",
    "\n",
    "    def parameters(self) -> tp.List:\n",
    "        return [p for layer in self.layers for p in layer.parameters()]"
   ]
  },
  {
   "cell_type": "code",
   "execution_count": 7,
   "metadata": {},
   "outputs": [
    {
     "data": {
      "text/plain": [
       "<torch._C.Generator at 0x10c393cf0>"
      ]
     },
     "execution_count": 7,
     "metadata": {},
     "output_type": "execute_result"
    }
   ],
   "source": [
    "torch.manual_seed(42)"
   ]
  },
  {
   "cell_type": "code",
   "execution_count": 8,
   "metadata": {},
   "outputs": [],
   "source": [
    "def build_mlp_model(n_embed: int, n_hidden: int):\n",
    "    model = Sequential(\n",
    "        [\n",
    "            Embedding(vocab_size, n_embed),\n",
    "            Flatten(),\n",
    "            Linear(n_embed * block_size, n_hidden, bias=False),\n",
    "            BatchNorm1d(dim=n_hidden),\n",
    "            Tanh(),\n",
    "            Linear(n_hidden, vocab_size),\n",
    "        ]\n",
    "    )\n",
    "\n",
    "    with torch.no_grad():\n",
    "        model.layers[-1].weight *= 0.1  # last layer makes less confident\n",
    "\n",
    "    parameters = model.parameters()\n",
    "    print(f\"{sum(p.nelement() for p in parameters)} in total.\")\n",
    "    for p in parameters:\n",
    "        p.requires_grad = True\n",
    "\n",
    "    return model"
   ]
  },
  {
   "cell_type": "code",
   "execution_count": 9,
   "metadata": {},
   "outputs": [
    {
     "name": "stdout",
     "output_type": "stream",
     "text": [
      "22097 in total.\n"
     ]
    }
   ],
   "source": [
    "mlp = build_mlp_model(n_embed=10, n_hidden=200)"
   ]
  },
  {
   "cell_type": "code",
   "execution_count": 23,
   "metadata": {},
   "outputs": [],
   "source": [
    "# Training Loop\n",
    "def train(model, Xtr, Ytr, debug: bool = False):\n",
    "    epochs = 200_000\n",
    "    batch_size = 32\n",
    "    lossi = []\n",
    "\n",
    "    for epoch in range(epochs):\n",
    "        ix = torch.randint(0, Xtr.shape[0], (batch_size,))\n",
    "        Xb, Yb = Xtr[ix], Ytr[ix]\n",
    "\n",
    "        logits = model(Xb)\n",
    "        loss = F.cross_entropy(logits, Yb)\n",
    "\n",
    "        for p in model.parameters():\n",
    "            p.grad = None\n",
    "        loss.backward()\n",
    "\n",
    "        lr = 0.1 if epoch < 150_000 else 0.01\n",
    "        for p in model.parameters():\n",
    "            p.data += -lr * p.grad\n",
    "\n",
    "        if epoch % 10000 == 0:\n",
    "            print(f\"{epoch}/{epochs:7d}: {loss.item():4f}\")\n",
    "\n",
    "        lossi.append(loss.log10().item())\n",
    "\n",
    "        if debug:\n",
    "            break\n",
    "\n",
    "    return lossi"
   ]
  },
  {
   "cell_type": "code",
   "execution_count": 11,
   "metadata": {},
   "outputs": [
    {
     "name": "stdout",
     "output_type": "stream",
     "text": [
      "0/ 200000: 3.784726\n",
      "10000/ 200000: 2.022684\n",
      "20000/ 200000: 2.004549\n",
      "30000/ 200000: 1.745983\n",
      "40000/ 200000: 1.971695\n",
      "50000/ 200000: 1.994878\n",
      "60000/ 200000: 2.029795\n",
      "70000/ 200000: 1.908957\n",
      "80000/ 200000: 2.623553\n",
      "90000/ 200000: 1.862805\n",
      "100000/ 200000: 2.136049\n",
      "110000/ 200000: 1.888042\n",
      "120000/ 200000: 1.996689\n",
      "130000/ 200000: 2.135931\n",
      "140000/ 200000: 2.311641\n",
      "150000/ 200000: 1.956204\n",
      "160000/ 200000: 2.190275\n",
      "170000/ 200000: 1.647606\n",
      "180000/ 200000: 2.073239\n",
      "190000/ 200000: 2.062729\n"
     ]
    }
   ],
   "source": [
    "# ~ 2mins\n",
    "lossi = train(mlp, Xtr, Ytr)"
   ]
  },
  {
   "cell_type": "code",
   "execution_count": 12,
   "metadata": {},
   "outputs": [
    {
     "data": {
      "text/plain": [
       "[<matplotlib.lines.Line2D at 0x169ab29e0>]"
      ]
     },
     "execution_count": 12,
     "metadata": {},
     "output_type": "execute_result"
    },
    {
     "data": {
      "image/png": "[encoded data removed]",
      "text/plain": [
       "<Figure size 640x480 with 1 Axes>"
      ]
     },
     "metadata": {},
     "output_type": "display_data"
    }
   ],
   "source": [
    "plt.plot(torch.tensor(lossi).view(-1, 1000).mean(dim=1))"
   ]
  },
  {
   "cell_type": "code",
   "execution_count": 13,
   "metadata": {},
   "outputs": [],
   "source": [
    "def set_eval_mode(model):\n",
    "    for layer in model.layers:\n",
    "        layer.training = False"
   ]
  },
  {
   "cell_type": "code",
   "execution_count": 14,
   "metadata": {},
   "outputs": [],
   "source": [
    "set_eval_mode(mlp)"
   ]
  },
  {
   "cell_type": "code",
   "execution_count": 15,
   "metadata": {},
   "outputs": [],
   "source": [
    "# Evaluation\n",
    "\n",
    "\n",
    "@torch.no_grad()\n",
    "def split_loss(model, split: str):\n",
    "    x, y = {\"train\": (Xtr, Ytr), \"val\": (Xval, Yval), \"test\": (Xtest, Ytest)}[split]\n",
    "    logits = model(x)\n",
    "    loss = F.cross_entropy(logits, y)\n",
    "    print(split, loss.item())"
   ]
  },
  {
   "cell_type": "code",
   "execution_count": 16,
   "metadata": {},
   "outputs": [
    {
     "name": "stdout",
     "output_type": "stream",
     "text": [
      "train 1.9184144735336304\n",
      "val 2.030029296875\n"
     ]
    }
   ],
   "source": [
    "split_loss(mlp, \"train\")\n",
    "split_loss(mlp, \"val\")"
   ]
  },
  {
   "cell_type": "code",
   "execution_count": 17,
   "metadata": {},
   "outputs": [],
   "source": [
    "# Sample\n",
    "\n",
    "import torch\n",
    "\n",
    "\n",
    "def sample(model):\n",
    "    g = torch.Generator().manual_seed(2147483647 + 10)\n",
    "\n",
    "    for _ in range(10):\n",
    "        output = []\n",
    "        context = [0] * block_size  # initialize with all \"...\"\n",
    "\n",
    "        while True:\n",
    "            logits = model(torch.tensor([context]))  # (1, block_size, embedding_size)\n",
    "            probs = F.softmax(logits, dim=1)\n",
    "\n",
    "            ix = torch.multinomial(probs, num_samples=1, replacement=True, generator=g).item()\n",
    "            context = context[1:] + [ix]\n",
    "\n",
    "            output.append(ix)\n",
    "\n",
    "            if ix == 0:\n",
    "                break\n",
    "\n",
    "        print(\"\".join(itos[i] for i in output))"
   ]
  },
  {
   "cell_type": "code",
   "execution_count": 18,
   "metadata": {},
   "outputs": [
    {
     "name": "stdout",
     "output_type": "stream",
     "text": [
      "carmah.\n",
      "amelle.\n",
      "khyim.\n",
      "shreet.\n",
      "khalan.\n",
      "kenrick.\n",
      "nayver.\n",
      "ruthaeli.\n",
      "nerikia.\n",
      "chaiir.\n"
     ]
    }
   ],
   "source": [
    "sample(mlp)"
   ]
  },
  {
   "cell_type": "markdown",
   "metadata": {},
   "source": [
    "# WaveNet (shallow mlp -> deep net)"
   ]
  },
  {
   "cell_type": "code",
   "execution_count": 20,
   "metadata": {},
   "outputs": [
    {
     "name": "stdout",
     "output_type": "stream",
     "text": [
      "tensor([[ 0,  0,  0,  0,  0,  0,  4,  1],\n",
      "        [ 0,  0,  0, 19, 11, 25, 12,  5],\n",
      "        [ 0,  0,  0,  0,  0,  0,  0,  1],\n",
      "        [ 0,  0,  0, 20,  5, 14, 19, 12],\n",
      "        [ 0,  0,  0,  0, 10, 21, 19, 20],\n",
      "        [ 0,  0,  0,  0,  0,  0, 14,  9],\n",
      "        [ 0,  0, 10,  1, 13,  9, 25,  1]])\n"
     ]
    }
   ],
   "source": [
    "ix = torch.randint(0, Xtr.shape[0], (7,))\n",
    "Xb = Xtr[ix]\n",
    "print(Xb)"
   ]
  },
  {
   "cell_type": "code",
   "execution_count": 22,
   "metadata": {},
   "outputs": [
    {
     "data": {
      "text/plain": [
       "(torch.Size([7, 8, 10]), torch.Size([7, 80]))"
      ]
     },
     "execution_count": 22,
     "metadata": {},
     "output_type": "execute_result"
    }
   ],
   "source": [
    "emb = mlp.layers[0](Xb)\n",
    "x = mlp.layers[1](emb)\n",
    "\n",
    "emb.shape, x.shape"
   ]
  },
  {
   "cell_type": "markdown",
   "metadata": {},
   "source": [
    "We now want the information from the context length (8) to fuse slowly, rather than instantly (all concatenate to 1 array)."
   ]
  },
  {
   "cell_type": "markdown",
   "metadata": {},
   "source": [
    "The idea of wavenet is to first fuse 2 adjacents together, making 4 of tuples of 2. Then repeatly fuse 2 adjacents together, making 2 of tuples of 4. Finally fuse the 2 tuples together and make eveything concatenated together."
   ]
  },
  {
   "cell_type": "markdown",
   "metadata": {},
   "source": [
    "Thus, we will have 3 layers instead of 1."
   ]
  },
  {
   "cell_type": "markdown",
   "metadata": {},
   "source": [
    "For example, we have embedding size as (7, 8, 10). We want the 1st flatten layer output to have (7, 4, 20), 2nd flatten layer output to be (7, 2, 40), and 3rd flatter layer output to be (7, 80) (remove the 1 dimemsion)."
   ]
  },
  {
   "cell_type": "code",
   "execution_count": 27,
   "metadata": {},
   "outputs": [],
   "source": [
    "# FlattenConsecutive(block_size) equals Flatten()\n",
    "class FlattenConsecutive:\n",
    "    def __init__(self, n) -> None:\n",
    "        self.n = n\n",
    "\n",
    "    def __call__(self, x) -> tp.Any:\n",
    "        B, T, C = x.shape  # Batch size, Context Length (or Block Size), Embbedding Size (or Channel Size)\n",
    "        # Note this is different from PyTorch, which usually has (B, C, T), or (N, C, L)\n",
    "        x = x.view(B, T // self.n, C * self.n)\n",
    "        if x.shape[1] == 1:\n",
    "            # remove T if T == 1. We want (7, 80) but not (7, 1, 80).\n",
    "            x = x.squeeze(dim=1)\n",
    "        self.out = x\n",
    "        return self.out\n",
    "\n",
    "    def parameters(self) -> tp.List:\n",
    "        return []"
   ]
  },
  {
   "cell_type": "code",
   "execution_count": 24,
   "metadata": {},
   "outputs": [],
   "source": [
    "def build_deepnet(n_embed: int, n_hidden: int):\n",
    "    deep_net = Sequential(\n",
    "        [\n",
    "            Embedding(num_embeddings=vocab_size, embedding_dim=n_embed),\n",
    "            #\n",
    "            FlattenConsecutive(2),\n",
    "            Linear(n_embed * 2, n_hidden),\n",
    "            BatchNorm1d(n_hidden),\n",
    "            Tanh(),\n",
    "            #\n",
    "            FlattenConsecutive(2),\n",
    "            Linear(n_hidden * 2, n_hidden),\n",
    "            BatchNorm1d(n_hidden),\n",
    "            Tanh(),\n",
    "            #\n",
    "            FlattenConsecutive(2),\n",
    "            Linear(n_hidden * 2, n_hidden),\n",
    "            BatchNorm1d(n_hidden),\n",
    "            Tanh(),\n",
    "            # Final\n",
    "            Linear(n_hidden, vocab_size),\n",
    "        ]\n",
    "    )\n",
    "\n",
    "    with torch.no_grad():\n",
    "        deep_net.layers[-1].weight *= 0.1  # make the final layer less confident\n",
    "\n",
    "    for p in deep_net.parameters():\n",
    "        p.requires_grad = True\n",
    "\n",
    "    return deep_net"
   ]
  },
  {
   "cell_type": "code",
   "execution_count": 30,
   "metadata": {},
   "outputs": [],
   "source": [
    "def get_total_params(model) -> int:\n",
    "    return sum(p.nelement() for layer in model.layers for p in layer.parameters())"
   ]
  },
  {
   "cell_type": "code",
   "execution_count": 40,
   "metadata": {},
   "outputs": [],
   "source": [
    "# Decrease hidden layer size to have roughly the same params as the shallow mlp.\n",
    "torch.manual_seed(42)\n",
    "deep_net = build_deepnet(n_embed=10, n_hidden=68)"
   ]
  },
  {
   "cell_type": "code",
   "execution_count": 38,
   "metadata": {},
   "outputs": [
    {
     "name": "stdout",
     "output_type": "stream",
     "text": [
      "Total params: 22601\n"
     ]
    }
   ],
   "source": [
    "print(f\"Total params: {get_total_params(deep_net)}\")"
   ]
  },
  {
   "cell_type": "code",
   "execution_count": 34,
   "metadata": {},
   "outputs": [],
   "source": [
    "def display_net(model):\n",
    "    for layer in model.layers:\n",
    "        print(layer.__class__.__name__, \":\", tuple(layer.out.shape))"
   ]
  },
  {
   "cell_type": "code",
   "execution_count": 39,
   "metadata": {},
   "outputs": [
    {
     "name": "stdout",
     "output_type": "stream",
     "text": [
      "0/ 200000: 3.426891\n",
      "Embedding : (32, 8, 10)\n",
      "FlattenConsecutive : (32, 4, 20)\n",
      "Linear : (32, 4, 68)\n",
      "BatchNorm1d : (32, 4, 68)\n",
      "Tanh : (32, 4, 68)\n",
      "FlattenConsecutive : (32, 2, 136)\n",
      "Linear : (32, 2, 68)\n",
      "BatchNorm1d : (32, 2, 68)\n",
      "Tanh : (32, 2, 68)\n",
      "FlattenConsecutive : (32, 136)\n",
      "Linear : (32, 68)\n",
      "BatchNorm1d : (32, 68)\n",
      "Tanh : (32, 68)\n",
      "Linear : (32, 27)\n"
     ]
    }
   ],
   "source": [
    "# Run 1 epoch and check the dimensions\n",
    "train(deep_net, Xtr, Ytr, debug=True)\n",
    "display_net(deep_net)"
   ]
  },
  {
   "cell_type": "code",
   "execution_count": 41,
   "metadata": {},
   "outputs": [
    {
     "name": "stdout",
     "output_type": "stream",
     "text": [
      "0/ 200000: 3.426891\n",
      "10000/ 200000: 1.978816\n",
      "20000/ 200000: 2.449963\n",
      "30000/ 200000: 2.067654\n",
      "40000/ 200000: 1.991763\n",
      "50000/ 200000: 2.211178\n",
      "60000/ 200000: 2.203613\n",
      "70000/ 200000: 2.108956\n",
      "80000/ 200000: 1.878155\n",
      "90000/ 200000: 2.312333\n",
      "100000/ 200000: 1.978967\n",
      "110000/ 200000: 1.425199\n",
      "120000/ 200000: 2.203280\n",
      "130000/ 200000: 1.651695\n",
      "140000/ 200000: 2.213243\n",
      "150000/ 200000: 2.155809\n",
      "160000/ 200000: 2.157286\n",
      "170000/ 200000: 2.228059\n",
      "180000/ 200000: 2.046267\n",
      "190000/ 200000: 1.925675\n"
     ]
    }
   ],
   "source": [
    "# ~ 4 mins\n",
    "lossi = train(deep_net, Xtr, Ytr, debug=False)"
   ]
  },
  {
   "cell_type": "code",
   "execution_count": 42,
   "metadata": {},
   "outputs": [
    {
     "name": "stdout",
     "output_type": "stream",
     "text": [
      "train 1.936240792274475\n",
      "val 2.0253868103027344\n"
     ]
    }
   ],
   "source": [
    "set_eval_mode(deep_net)\n",
    "split_loss(deep_net, \"train\")\n",
    "split_loss(deep_net, \"val\")"
   ]
  },
  {
   "cell_type": "markdown",
   "metadata": {},
   "source": [
    "# Fix BatchNorm for 3d inputs"
   ]
  },
  {
   "cell_type": "markdown",
   "metadata": {},
   "source": [
    "Our 1st layer output is of size (32, 4, 68), and we want to batch norm the entire (32 * 4) examples, but not 32 examples.\n",
    "\n",
    "In other words, we treat all but the last dimension as batches, and calculate the mean and variance of examples."
   ]
  },
  {
   "cell_type": "code",
   "execution_count": 49,
   "metadata": {},
   "outputs": [],
   "source": [
    "class BatchNorm1d:\n",
    "    def __init__(self, dim: int, eps=1e-5, momentum=0.1) -> None:\n",
    "        self.eps = eps\n",
    "        self.momentum = momentum\n",
    "        self.training: bool = True\n",
    "\n",
    "        self.gamma = torch.ones(dim)\n",
    "        self.beta = torch.zeros(dim)\n",
    "\n",
    "        # buffers\n",
    "        self.running_mean = torch.zeros(dim)\n",
    "        self.running_var = torch.ones(dim)\n",
    "\n",
    "    def __call__(self, x) -> tp.Any:\n",
    "        if self.training:\n",
    "            if x.ndim == 2:\n",
    "                dim = 0\n",
    "            elif x.ndim == 3:  # Treat the first 2 dims as batches.\n",
    "                dim = (0, 1)\n",
    "            xmean = x.mean(dim, keepdim=True)\n",
    "            xvar = x.var(dim, keepdim=True)\n",
    "        else:\n",
    "            xmean = self.running_mean\n",
    "            xvar = self.running_var\n",
    "\n",
    "        xhat = (x - xmean) / torch.sqrt(xvar + self.eps)\n",
    "        self.out = self.gamma * xhat + self.beta\n",
    "\n",
    "        if self.training:\n",
    "            with torch.no_grad():\n",
    "                self.running_mean = (1 - self.momentum) * self.running_mean + self.momentum * xmean\n",
    "                self.running_var = (1 - self.momentum) * self.running_var + self.momentum * xvar\n",
    "\n",
    "        return self.out\n",
    "\n",
    "    def parameters(self) -> tp.List:\n",
    "        return [self.gamma, self.beta]"
   ]
  },
  {
   "cell_type": "code",
   "execution_count": 51,
   "metadata": {},
   "outputs": [
    {
     "name": "stdout",
     "output_type": "stream",
     "text": [
      "0/ 200000: 3.420827\n",
      "Embedding : (32, 8, 10)\n",
      "FlattenConsecutive : (32, 4, 20)\n",
      "Linear : (32, 4, 68)\n",
      "BatchNorm1d : (32, 4, 68)\n",
      "Tanh : (32, 4, 68)\n",
      "FlattenConsecutive : (32, 2, 136)\n",
      "Linear : (32, 2, 68)\n",
      "BatchNorm1d : (32, 2, 68)\n",
      "Tanh : (32, 2, 68)\n",
      "FlattenConsecutive : (32, 136)\n",
      "Linear : (32, 68)\n",
      "BatchNorm1d : (32, 68)\n",
      "Tanh : (32, 68)\n",
      "Linear : (32, 27)\n"
     ]
    }
   ],
   "source": [
    "torch.manual_seed(42)\n",
    "fixed_bn_deepnet = build_deepnet(n_embed=10, n_hidden=68)\n",
    "train(fixed_bn_deepnet, Xtr, Ytr, debug=True)\n",
    "display_net(fixed_bn_deepnet)"
   ]
  },
  {
   "cell_type": "code",
   "execution_count": 52,
   "metadata": {},
   "outputs": [
    {
     "name": "stdout",
     "output_type": "stream",
     "text": [
      "0/ 200000: 3.489251\n",
      "10000/ 200000: 2.149081\n",
      "20000/ 200000: 2.133515\n",
      "30000/ 200000: 1.919038\n",
      "40000/ 200000: 2.144388\n",
      "50000/ 200000: 2.436729\n",
      "60000/ 200000: 1.999422\n",
      "70000/ 200000: 1.951678\n",
      "80000/ 200000: 2.215482\n",
      "90000/ 200000: 2.122622\n",
      "100000/ 200000: 1.907369\n",
      "110000/ 200000: 1.738320\n",
      "120000/ 200000: 2.117441\n",
      "130000/ 200000: 2.035177\n",
      "140000/ 200000: 1.733167\n",
      "150000/ 200000: 1.459346\n",
      "160000/ 200000: 1.932294\n",
      "170000/ 200000: 1.754429\n",
      "180000/ 200000: 2.260017\n",
      "190000/ 200000: 2.020680\n"
     ]
    }
   ],
   "source": [
    "# ~ 5mins\n",
    "lossi = train(fixed_bn_deepnet, Xtr, Ytr, debug=False)"
   ]
  },
  {
   "cell_type": "code",
   "execution_count": 53,
   "metadata": {},
   "outputs": [
    {
     "name": "stdout",
     "output_type": "stream",
     "text": [
      "train 1.9079331159591675\n",
      "val 2.0214245319366455\n"
     ]
    }
   ],
   "source": [
    "set_eval_mode(fixed_bn_deepnet)\n",
    "split_loss(fixed_bn_deepnet, \"train\")\n",
    "split_loss(fixed_bn_deepnet, \"val\")"
   ]
  },
  {
   "cell_type": "markdown",
   "metadata": {},
   "source": [
    "# Scale Up WaveNet"
   ]
  },
  {
   "cell_type": "code",
   "execution_count": 54,
   "metadata": {},
   "outputs": [
    {
     "name": "stdout",
     "output_type": "stream",
     "text": [
      "0/ 200000: 4.093812\n",
      "Total params: 76963\n",
      "Embedding : (32, 8, 24)\n",
      "FlattenConsecutive : (32, 4, 48)\n",
      "Linear : (32, 4, 128)\n",
      "BatchNorm1d : (32, 4, 128)\n",
      "Tanh : (32, 4, 128)\n",
      "FlattenConsecutive : (32, 2, 256)\n",
      "Linear : (32, 2, 128)\n",
      "BatchNorm1d : (32, 2, 128)\n",
      "Tanh : (32, 2, 128)\n",
      "FlattenConsecutive : (32, 256)\n",
      "Linear : (32, 128)\n",
      "BatchNorm1d : (32, 128)\n",
      "Tanh : (32, 128)\n",
      "Linear : (32, 27)\n"
     ]
    }
   ],
   "source": [
    "torch.manual_seed(42)\n",
    "scale_up_deepnet = build_deepnet(n_embed=24, n_hidden=128)\n",
    "train(scale_up_deepnet, Xtr, Ytr, debug=True)\n",
    "print(f\"Total params: {get_total_params(scale_up_deepnet)}\")\n",
    "display_net(scale_up_deepnet)"
   ]
  },
  {
   "cell_type": "code",
   "execution_count": 55,
   "metadata": {},
   "outputs": [
    {
     "name": "stdout",
     "output_type": "stream",
     "text": [
      "0/ 200000: 4.299056\n",
      "10000/ 200000: 1.807935\n",
      "20000/ 200000: 1.839669\n",
      "30000/ 200000: 2.325362\n",
      "40000/ 200000: 2.633104\n",
      "50000/ 200000: 1.852282\n",
      "60000/ 200000: 1.825101\n",
      "70000/ 200000: 1.807695\n",
      "80000/ 200000: 1.864138\n",
      "90000/ 200000: 1.719553\n",
      "100000/ 200000: 1.927642\n",
      "110000/ 200000: 1.935086\n",
      "120000/ 200000: 1.983012\n",
      "130000/ 200000: 2.043944\n",
      "140000/ 200000: 1.637899\n",
      "150000/ 200000: 1.976491\n",
      "160000/ 200000: 1.631560\n",
      "170000/ 200000: 2.096230\n",
      "180000/ 200000: 1.821052\n",
      "190000/ 200000: 1.858011\n"
     ]
    }
   ],
   "source": [
    "# ~ 6 mins\n",
    "lossi = train(scale_up_deepnet, Xtr, Ytr, debug=False)"
   ]
  },
  {
   "cell_type": "code",
   "execution_count": 56,
   "metadata": {},
   "outputs": [
    {
     "name": "stdout",
     "output_type": "stream",
     "text": [
      "train 1.764479160308838\n",
      "val 1.9862309694290161\n"
     ]
    }
   ],
   "source": [
    "set_eval_mode(scale_up_deepnet)\n",
    "split_loss(scale_up_deepnet, \"train\")\n",
    "split_loss(scale_up_deepnet, \"val\")"
   ]
  }
 ],
 "metadata": {
  "kernelspec": {
   "display_name": "karpathy-nlp",
   "language": "python",
   "name": "python3"
  },
  "language_info": {
   "codemirror_mode": {
    "name": "ipython",
    "version": 3
   },
   "file_extension": ".py",
   "mimetype": "text/x-python",
   "name": "python",
   "nbconvert_exporter": "python",
   "pygments_lexer": "ipython3",
   "version": "3.10.13"
  }
 },
 "nbformat": 4,
 "nbformat_minor": 2
}
