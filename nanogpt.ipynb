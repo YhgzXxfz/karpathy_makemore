{
 "cells": [
  {
   "cell_type": "markdown",
   "metadata": {},
   "source": [
    "# 1. Load Corpse"
   ]
  },
  {
   "cell_type": "code",
   "execution_count": 3,
   "metadata": {},
   "outputs": [
    {
     "name": "stdout",
     "output_type": "stream",
     "text": [
      "  % Total    % Received % Xferd  Average Speed   Time    Time     Time  Current\n",
      "                                 Dload  Upload   Total   Spent    Left  Speed\n",
      "100 1089k  100 1089k    0     0  9924k      0 --:--:-- --:--:-- --:--:-- 10.1M\n"
     ]
    }
   ],
   "source": [
    "!curl https://raw.githubusercontent.com/karpathy/char-rnn/master/data/tinyshakespeare/input.txt -o input.txt"
   ]
  },
  {
   "cell_type": "code",
   "execution_count": 4,
   "metadata": {},
   "outputs": [],
   "source": [
    "with open('input.txt', 'r', encoding='utf-8') as f:\n",
    "    text = f.read()"
   ]
  },
  {
   "cell_type": "code",
   "execution_count": 5,
   "metadata": {},
   "outputs": [
    {
     "data": {
      "text/plain": [
       "1115394"
      ]
     },
     "execution_count": 5,
     "metadata": {},
     "output_type": "execute_result"
    }
   ],
   "source": [
    "len(text)"
   ]
  },
  {
   "cell_type": "code",
   "execution_count": 8,
   "metadata": {},
   "outputs": [
    {
     "name": "stdout",
     "output_type": "stream",
     "text": [
      "First Citizen:\n",
      "Before we proceed any further, hear me speak.\n",
      "\n",
      "All:\n",
      "Speak, speak.\n",
      "\n",
      "First Citizen:\n",
      "You are all resolved rather to die than to famish?\n",
      "\n",
      "All:\n",
      "Resolved. resolved.\n",
      "\n",
      "First Citizen:\n",
      "First, you know Caius Marcius is chief enemy to the people.\n",
      "\n",
      "All:\n",
      "We know't, we know't.\n",
      "\n",
      "First Citizen:\n",
      "Let us kill him, and we'll have corn at our own price.\n",
      "Is't a verdict?\n",
      "\n",
      "All:\n",
      "No more talking on't; let it be done: away, away!\n",
      "\n",
      "Second Citizen:\n",
      "One word, good citizens.\n",
      "\n",
      "First Citizen:\n",
      "We are accounted poor citizens, the patricians good.\n",
      "What authority surfeits on would relieve us: if they\n",
      "would yield us but the superfluity, while it were\n",
      "wholesome, we might guess they relieved us humanely;\n",
      "but they think we are too dear: the leanness that\n",
      "afflicts us, the object of our misery, is as an\n",
      "inventory to particularise their abundance; our\n",
      "sufferance is a gain to them Let us revenge this with\n",
      "our pikes, ere we become rakes: for the gods know I\n",
      "speak this in hunger for bread, not in thirst for revenge.\n",
      "\n",
      "\n"
     ]
    }
   ],
   "source": [
    "print(text[:1000])"
   ]
  },
  {
   "cell_type": "markdown",
   "metadata": {},
   "source": [
    "# 2. Prepare Datasets"
   ]
  },
  {
   "cell_type": "code",
   "execution_count": 9,
   "metadata": {},
   "outputs": [
    {
     "name": "stdout",
     "output_type": "stream",
     "text": [
      "\n",
      " !$&',-.3:;?ABCDEFGHIJKLMNOPQRSTUVWXYZabcdefghijklmnopqrstuvwxyz\n",
      "65\n"
     ]
    }
   ],
   "source": [
    "# Vocabulary\n",
    "vocab = sorted(list(set(text)))\n",
    "vocab_size = len(vocab)\n",
    "print(''.join(vocab))\n",
    "print(vocab_size)"
   ]
  },
  {
   "cell_type": "code",
   "execution_count": 10,
   "metadata": {},
   "outputs": [
    {
     "name": "stdout",
     "output_type": "stream",
     "text": [
      "[46, 47, 47, 1, 54, 63, 58, 46, 53, 52]\n",
      "hii python\n"
     ]
    }
   ],
   "source": [
    "# Encode and Decode function\n",
    "stoi = { ch: i for i, ch in enumerate(vocab) }\n",
    "itos = { i: ch for i, ch in enumerate(vocab) }\n",
    "encode = lambda s: [stoi[ch] for ch in s]\n",
    "decode = lambda l: ''.join(itos[i] for i in l)\n",
    "\n",
    "print(encode(\"hii python\"))\n",
    "print(decode(encode(\"hii python\")))\n"
   ]
  },
  {
   "cell_type": "code",
   "execution_count": 12,
   "metadata": {},
   "outputs": [],
   "source": [
    "# Training and validation data\n",
    "import torch\n",
    "\n",
    "data = torch.tensor(encode(text), dtype=torch.long)\n",
    "n = int(0.9 * len(data))\n",
    "train_data = data[:n]\n",
    "val_data = data[n:]"
   ]
  },
  {
   "cell_type": "code",
   "execution_count": 15,
   "metadata": {},
   "outputs": [
    {
     "name": "stdout",
     "output_type": "stream",
     "text": [
      "inputs\n",
      "torch.Size([4, 8])\n",
      "tensor([[24, 43, 58,  5, 57,  1, 46, 43],\n",
      "        [44, 53, 56,  1, 58, 46, 39, 58],\n",
      "        [52, 58,  1, 58, 46, 39, 58,  1],\n",
      "        [25, 17, 27, 10,  0, 21,  1, 54]])\n",
      "targets\n",
      "torch.Size([4, 8])\n",
      "tensor([[43, 58,  5, 57,  1, 46, 43, 39],\n",
      "        [53, 56,  1, 58, 46, 39, 58,  1],\n",
      "        [58,  1, 58, 46, 39, 58,  1, 46],\n",
      "        [17, 27, 10,  0, 21,  1, 54, 39]])\n",
      "----\n",
      "When the inputs are: [24], target: 43\n",
      "When the inputs are: [24, 43], target: 58\n",
      "When the inputs are: [24, 43, 58], target: 5\n",
      "When the inputs are: [24, 43, 58, 5], target: 57\n",
      "When the inputs are: [24, 43, 58, 5, 57], target: 1\n",
      "When the inputs are: [24, 43, 58, 5, 57, 1], target: 46\n",
      "When the inputs are: [24, 43, 58, 5, 57, 1, 46], target: 43\n",
      "When the inputs are: [24, 43, 58, 5, 57, 1, 46, 43], target: 39\n",
      "When the inputs are: [44], target: 53\n",
      "When the inputs are: [44, 53], target: 56\n",
      "When the inputs are: [44, 53, 56], target: 1\n",
      "When the inputs are: [44, 53, 56, 1], target: 58\n",
      "When the inputs are: [44, 53, 56, 1, 58], target: 46\n",
      "When the inputs are: [44, 53, 56, 1, 58, 46], target: 39\n",
      "When the inputs are: [44, 53, 56, 1, 58, 46, 39], target: 58\n",
      "When the inputs are: [44, 53, 56, 1, 58, 46, 39, 58], target: 1\n",
      "When the inputs are: [52], target: 58\n",
      "When the inputs are: [52, 58], target: 1\n",
      "When the inputs are: [52, 58, 1], target: 58\n",
      "When the inputs are: [52, 58, 1, 58], target: 46\n",
      "When the inputs are: [52, 58, 1, 58, 46], target: 39\n",
      "When the inputs are: [52, 58, 1, 58, 46, 39], target: 58\n",
      "When the inputs are: [52, 58, 1, 58, 46, 39, 58], target: 1\n",
      "When the inputs are: [52, 58, 1, 58, 46, 39, 58, 1], target: 46\n",
      "When the inputs are: [25], target: 17\n",
      "When the inputs are: [25, 17], target: 27\n",
      "When the inputs are: [25, 17, 27], target: 10\n",
      "When the inputs are: [25, 17, 27, 10], target: 0\n",
      "When the inputs are: [25, 17, 27, 10, 0], target: 21\n",
      "When the inputs are: [25, 17, 27, 10, 0, 21], target: 1\n",
      "When the inputs are: [25, 17, 27, 10, 0, 21, 1], target: 54\n",
      "When the inputs are: [25, 17, 27, 10, 0, 21, 1, 54], target: 39\n"
     ]
    }
   ],
   "source": [
    "# Batches\n",
    "import torch\n",
    "\n",
    "torch.manual_seed(1337)\n",
    "\n",
    "batch_size = 4\n",
    "block_size = 8\n",
    "\n",
    "def get_batch(split: str):\n",
    "    data = train_data if split == 'train' else val_data\n",
    "    ix = torch.randint(0, len(data) - block_size, (batch_size,))\n",
    "    xb = torch.stack([data[i:i+block_size] for i in ix])\n",
    "    yb = torch.stack([data[i+1:i+block_size+1] for i in ix])\n",
    "    return xb, yb\n",
    "\n",
    "xb, yb = get_batch('train')\n",
    "print(\"inputs\")\n",
    "print(xb.shape)\n",
    "print(xb)\n",
    "print(\"targets\")\n",
    "print(yb.shape)\n",
    "print(yb)\n",
    "\n",
    "print(\"----\")\n",
    "\n",
    "for b in range(batch_size):\n",
    "    for t in range(block_size):\n",
    "        context = xb[b, :t+1]\n",
    "        target = yb[b, t]\n",
    "        print(f\"When the inputs are: {context.tolist()}, target: {target}\")"
   ]
  },
  {
   "cell_type": "markdown",
   "metadata": {},
   "source": [
    "# 3. BiGram"
   ]
  },
  {
   "cell_type": "code",
   "execution_count": 33,
   "metadata": {},
   "outputs": [
    {
     "name": "stdout",
     "output_type": "stream",
     "text": [
      "torch.Size([32, 65])\n",
      "tensor(4.7051, grad_fn=<NllLossBackward0>)\n",
      "tensor(4.1744)\n",
      "\n",
      "pxMHoRFJa!JKmRjtXzfN:CERiC-KuDHoiMIB!o3QHN\n",
      ",SPyiFhRKuxZOMsB-ZJhsucL:wfzLSPyZalylgQUEU cLq,SqV&vW:hhi\n"
     ]
    }
   ],
   "source": [
    "import torch\n",
    "import torch.nn as nn\n",
    "from torch.nn import functional as F\n",
    "\n",
    "torch.manual_seed(1337)\n",
    "\n",
    "class BiGramLanguageModel(nn.Module):\n",
    "\n",
    "    def __init__(self, vocab_size) -> None:\n",
    "        super().__init__()\n",
    "\n",
    "        self.token_embedding_table = nn.Embedding(vocab_size, vocab_size)\n",
    "\n",
    "    def forward(self, idx, targets=None): # idx is (B, T)\n",
    "        logits = self.token_embedding_table(idx) # logits is (B, T, C)\n",
    "\n",
    "        if targets is None:\n",
    "            loss = None\n",
    "        else:\n",
    "            B, T, C = logits.shape\n",
    "            logits = logits.view(B*T, C) # To fulfill PyTorch cross entropy requirements\n",
    "            targets = targets.view(B*T)\n",
    "            loss = F.cross_entropy(logits, targets) # PyTorch requires (B, C, T)\n",
    "        return logits, loss\n",
    "\n",
    "    def generate(self, idx, num_examples):\n",
    "        for _ in range(num_examples):\n",
    "            logits, _ = self(idx)\n",
    "            logits = logits[:, -1, :] # (B, C). Only needs the last result of block_size (T)\n",
    "            probs = F.softmax(logits, dim=-1) # (B, C). Softmax on dimension C\n",
    "            idx_next = torch.multinomial(probs, num_samples=1) # (B, 1)\n",
    "            idx = torch.cat((idx, idx_next), dim=1) # (B, T+1)\n",
    "\n",
    "        return idx\n",
    "\n",
    "        \n",
    "\n",
    "m = BiGramLanguageModel(vocab_size=vocab_size)\n",
    "xb, yb = get_batch('train')\n",
    "logits, loss = m(xb, yb)\n",
    "print(logits.shape)\n",
    "print(loss)\n",
    "\n",
    "# We see the loss on the randomly inited bigram LM is close to uniformly distributed loss\n",
    "print(-torch.log(torch.tensor(1 / vocab_size)))\n",
    "\n",
    "# Inference\n",
    "print(decode(m.generate(torch.zeros((1, 1), dtype=torch.long), num_examples=100)[0].tolist()))"
   ]
  },
  {
   "cell_type": "code",
   "execution_count": 40,
   "metadata": {},
   "outputs": [
    {
     "name": "stdout",
     "output_type": "stream",
     "text": [
      "2.658010721206665\n"
     ]
    }
   ],
   "source": [
    "# Training\n",
    "optimizer = torch.optim.AdamW(m.parameters(), lr=1e-3)\n",
    "\n",
    "def train(epoch: int):\n",
    "    for _ in range(epoch):\n",
    "        xb, yb = get_batch('train')\n",
    "        logits, loss = m(xb, yb)\n",
    "        optimizer.zero_grad(set_to_none=True)\n",
    "\n",
    "        loss.backward()\n",
    "        optimizer.step()\n",
    "\n",
    "    return loss.item()\n",
    "\n",
    "print(train(1000))"
   ]
  },
  {
   "cell_type": "code",
   "execution_count": 42,
   "metadata": {},
   "outputs": [
    {
     "name": "stdout",
     "output_type": "stream",
     "text": [
      "\n",
      "AU,\n",
      "Gowist Weano th t?EX&jFumat the of laticond ionedrt, cIce ce n thive'dZKIve, avind n, shadYZTH!abIJ&--cothere, m;\n",
      "Tr myoman iss no t Fk cois The fy.Ebe hysoimay atode isevV:ZUAElanon ishuromV&Qxl?ughen,\n",
      "\n",
      "TRT:\n",
      "Pl, nopomngoreppurkRCKpo, me s ft he te s I'tun tav&\n",
      "Bnd or o ft ges, IN.\n",
      "\n",
      "WARSio. IVT:\n",
      "SSivk!\n",
      "Hand, fatrarcugeQG, he ame s mymenosos and DKpue whea abvpangmymy dvin\n",
      "CJins wW:CJm bYWCkSise mye adettatlyxMOLWAscotheirilknes thethin w,S$\n",
      "\n",
      "IUzord;Wthimy my by ithes etavery y: hal; t d.\n",
      "NYw\n"
     ]
    }
   ],
   "source": [
    "# We see the pattern looks similar to Shakespeare\n",
    "print(decode(m.generate(torch.zeros((1, 1), dtype=torch.long), num_examples=500)[0].tolist()))"
   ]
  }
 ],
 "metadata": {
  "kernelspec": {
   "display_name": "Python 3.9.11 ('base')",
   "language": "python",
   "name": "python3"
  },
  "language_info": {
   "codemirror_mode": {
    "name": "ipython",
    "version": 3
   },
   "file_extension": ".py",
   "mimetype": "text/x-python",
   "name": "python",
   "nbconvert_exporter": "python",
   "pygments_lexer": "ipython3",
   "version": "3.9.11"
  },
  "orig_nbformat": 4,
  "vscode": {
   "interpreter": {
    "hash": "f7dc663557200197b1ecb639904d6775340f1f12cbb992d7264be98ae917f5fb"
   }
  }
 },
 "nbformat": 4,
 "nbformat_minor": 2
}
