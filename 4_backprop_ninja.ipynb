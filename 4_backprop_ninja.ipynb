{
 "cells": [
  {
   "cell_type": "markdown",
   "metadata": {},
   "source": [
    "# Preparation"
   ]
  },
  {
   "cell_type": "code",
   "execution_count": 1,
   "metadata": {},
   "outputs": [],
   "source": [
    "import torch\n",
    "import torch.nn.functional as F\n",
    "import matplotlib.pyplot as plt\n",
    "%matplotlib inline"
   ]
  },
  {
   "cell_type": "code",
   "execution_count": 2,
   "metadata": {},
   "outputs": [
    {
     "name": "stdout",
     "output_type": "stream",
     "text": [
      "tensor(1.)\n",
      "tensor(1.)\n"
     ]
    }
   ],
   "source": [
    "a = torch.tensor(2.0, requires_grad=True)\n",
    "b = 2 * a\n",
    "\n",
    "db = torch.tensor(0.5)\n",
    "da = 2.0 * db\n",
    "b.backward(gradient=db)\n",
    "print(da)\n",
    "print(a.grad)"
   ]
  },
  {
   "cell_type": "code",
   "execution_count": 3,
   "metadata": {},
   "outputs": [
    {
     "data": {
      "text/plain": [
       "['emma', 'olivia', 'ava', 'isabella', 'sophia', 'charlotte', 'mia', 'amelia']"
      ]
     },
     "execution_count": 3,
     "metadata": {},
     "output_type": "execute_result"
    }
   ],
   "source": [
    "words = open(\"names.txt\", \"r\").read().splitlines()\n",
    "words[:8]"
   ]
  },
  {
   "cell_type": "code",
   "execution_count": 4,
   "metadata": {},
   "outputs": [
    {
     "data": {
      "text/plain": [
       "{1: 'a',\n",
       " 2: 'b',\n",
       " 3: 'c',\n",
       " 4: 'd',\n",
       " 5: 'e',\n",
       " 6: 'f',\n",
       " 7: 'g',\n",
       " 8: 'h',\n",
       " 9: 'i',\n",
       " 10: 'j',\n",
       " 11: 'k',\n",
       " 12: 'l',\n",
       " 13: 'm',\n",
       " 14: 'n',\n",
       " 15: 'o',\n",
       " 16: 'p',\n",
       " 17: 'q',\n",
       " 18: 'r',\n",
       " 19: 's',\n",
       " 20: 't',\n",
       " 21: 'u',\n",
       " 22: 'v',\n",
       " 23: 'w',\n",
       " 24: 'x',\n",
       " 25: 'y',\n",
       " 26: 'z',\n",
       " 0: '.'}"
      ]
     },
     "execution_count": 4,
     "metadata": {},
     "output_type": "execute_result"
    }
   ],
   "source": [
    "alphabet = sorted(list(set(\"\".join(words))))\n",
    "stoi = {s: i + 1 for i, s in enumerate(alphabet)}\n",
    "stoi[\".\"] = 0\n",
    "itos = {i: s for s, i in stoi.items()}\n",
    "itos"
   ]
  },
  {
   "cell_type": "markdown",
   "metadata": {},
   "source": [
    "# Data"
   ]
  },
  {
   "cell_type": "code",
   "execution_count": 5,
   "metadata": {},
   "outputs": [
    {
     "name": "stdout",
     "output_type": "stream",
     "text": [
      "torch.Size([182625, 3]) torch.Size([182625])\n",
      "torch.Size([22655, 3]) torch.Size([22655])\n",
      "torch.Size([22866, 3]) torch.Size([22866])\n"
     ]
    }
   ],
   "source": [
    "import typing as tp\n",
    "\n",
    "\n",
    "def build_dataset(words: tp.List):\n",
    "    X, Y = [], []\n",
    "    for w in words:\n",
    "        window = [0] * 3\n",
    "        for ch in w + \".\":\n",
    "            ix = stoi[ch]\n",
    "            X.append(window)\n",
    "            Y.append(ix)\n",
    "            window = window[1:] + [ix]\n",
    "\n",
    "    X = torch.tensor(X)\n",
    "    Y = torch.tensor(Y)\n",
    "    print(X.shape, Y.shape)\n",
    "    return X, Y\n",
    "\n",
    "\n",
    "import random\n",
    "\n",
    "random.seed(42)\n",
    "random.shuffle(words)\n",
    "\n",
    "train_size = int(0.8 * len(words))\n",
    "validation_size = int(0.9 * len(words))\n",
    "Xtr, Ytr = build_dataset(words[:train_size])\n",
    "Xval, Yval = build_dataset(words[train_size:validation_size])\n",
    "Xtest, Ytest = build_dataset(words[validation_size:])"
   ]
  },
  {
   "cell_type": "markdown",
   "metadata": {},
   "source": [
    "# Manual Gradients"
   ]
  },
  {
   "cell_type": "code",
   "execution_count": 6,
   "metadata": {},
   "outputs": [],
   "source": [
    "import torch\n",
    "\n",
    "\n",
    "def cmp(s: str, derivative: torch.Tensor, tensor: torch.Tensor) -> None:\n",
    "    ex = torch.all(derivative == tensor.grad).item()\n",
    "    app = torch.allclose(derivative, tensor.grad)\n",
    "    maxdiff = (derivative - tensor.grad).abs().max().item()\n",
    "    print(f\"{s:5s} | Exact: {str(ex):5s} | Approximate: {str(app):5s} | MaxDiff: {str(maxdiff):5s}\")"
   ]
  },
  {
   "cell_type": "code",
   "execution_count": 7,
   "metadata": {},
   "outputs": [
    {
     "name": "stdout",
     "output_type": "stream",
     "text": [
      "test  | Exact: True  | Approximate: True  | MaxDiff: 0.0  \n"
     ]
    }
   ],
   "source": [
    "cmp(\"test\", da, a)"
   ]
  },
  {
   "cell_type": "code",
   "execution_count": 8,
   "metadata": {},
   "outputs": [],
   "source": [
    "# Constants\n",
    "ALPHABET_SPACE = len(stoi)\n",
    "NGRAM_SIZE = 3\n",
    "REPRESENTATION_DIM = 10\n",
    "HIDDEN_LAYER_DIM = 64\n",
    "MINI_BATCH_SIZE = 32"
   ]
  },
  {
   "cell_type": "code",
   "execution_count": 9,
   "metadata": {},
   "outputs": [
    {
     "name": "stdout",
     "output_type": "stream",
     "text": [
      "4137\n"
     ]
    }
   ],
   "source": [
    "# Model\n",
    "import torch\n",
    "\n",
    "g = torch.Generator().manual_seed(2147483647)\n",
    "C = torch.randn([ALPHABET_SPACE, REPRESENTATION_DIM], generator=g)  # (27, 10)\n",
    "# Layer 1\n",
    "W1 = (\n",
    "    torch.randn([NGRAM_SIZE * REPRESENTATION_DIM, HIDDEN_LAYER_DIM], generator=g)\n",
    "    * (5 / 3)\n",
    "    / ((NGRAM_SIZE * REPRESENTATION_DIM) ** 0.5)  # Kaiming's Init\n",
    ")  # (30, 64)\n",
    "b1 = torch.randn([HIDDEN_LAYER_DIM], generator=g) * 0.1  # (64,)\n",
    "# Layer 2\n",
    "W2 = torch.randn([HIDDEN_LAYER_DIM, ALPHABET_SPACE], generator=g) * 0.1  # (64, 27)\n",
    "b2 = torch.randn([ALPHABET_SPACE], generator=g) * 0.1  # (27,)\n",
    "# BatchNorm Layer\n",
    "bngain = torch.randn([1, HIDDEN_LAYER_DIM]) * 0.1 + 1.0  # (64,)\n",
    "bnbias = torch.randn([1, HIDDEN_LAYER_DIM]) * 0.1  # (64,)\n",
    "\n",
    "parameters = [C, W1, b1, W2, b2, bngain, bnbias]\n",
    "print(sum(p.nelement() for p in parameters))\n",
    "for p in parameters:\n",
    "    p.requires_grad = True"
   ]
  },
  {
   "cell_type": "code",
   "execution_count": 10,
   "metadata": {},
   "outputs": [],
   "source": [
    "# One mini batch\n",
    "ix = torch.randint(0, Xtr.shape[0], (MINI_BATCH_SIZE,), generator=g)\n",
    "\n",
    "Xb, Yb = Xtr[ix], Ytr[ix]"
   ]
  },
  {
   "cell_type": "code",
   "execution_count": 11,
   "metadata": {},
   "outputs": [
    {
     "data": {
      "text/plain": [
       "tensor(3.3499, grad_fn=<NegBackward0>)"
      ]
     },
     "execution_count": 11,
     "metadata": {},
     "output_type": "execute_result"
    }
   ],
   "source": [
    "# Feed Forward Once\n",
    "\"\"\"\n",
    "emb = C[Xb]\n",
    "h = torch.tanh(emb.view(emb.shape[0], -1) @ W1 + b1)\n",
    "logits = h @ W2 + b2\n",
    "loss = F.cross_entropy(logits, Yb)\n",
    "\"\"\"\n",
    "emb = C[Xb]\n",
    "emb_concat = emb.view(emb.shape[0], -1)\n",
    "# Linear Layer 1\n",
    "linear = emb_concat @ W1 + b1\n",
    "# Batch Norm\n",
    "bn_mean = (1 / MINI_BATCH_SIZE) * linear.sum(dim=0, keepdim=True)\n",
    "bn_diff = linear - bn_mean\n",
    "bn_diff_square = bn_diff**2\n",
    "bn_var = (1 / (MINI_BATCH_SIZE - 1)) * bn_diff_square.sum(dim=0, keepdim=True)\n",
    "bn_var_inv = (bn_var + 1e-5) ** -0.5\n",
    "bn_raw = bn_diff * bn_var_inv\n",
    "bn_scaled = bngain * bn_raw + bnbias\n",
    "# Activation\n",
    "hidden = torch.tanh(bn_scaled)\n",
    "# Linear Layer 2\n",
    "logits = hidden @ W2 + b2\n",
    "# Cross Entropy\n",
    "logits_max = logits.max(\n",
    "    1, keepdim=True\n",
    ").values  # For numerical stability. Softmax(x_i) = (exp(x_i - max(x_i)) / sum(exp(x_i - max(x_i))))\n",
    "logits_norm = logits - logits_max\n",
    "counts = logits_norm.exp()\n",
    "counts_sum = counts.sum(dim=1, keepdim=True)\n",
    "counts_sum_inv = counts_sum**-1\n",
    "probs = counts * counts_sum_inv\n",
    "logprobs = probs.log()\n",
    "loss = -logprobs[range(MINI_BATCH_SIZE), Yb].mean()\n",
    "\n",
    "# PyTorch backward pass\n",
    "for p in parameters:\n",
    "    p.grad = None\n",
    "for t in [\n",
    "    logprobs,\n",
    "    probs,\n",
    "    counts_sum_inv,\n",
    "    counts_sum,\n",
    "    counts,\n",
    "    logits_norm,\n",
    "    logits_max,\n",
    "    logits,\n",
    "    hidden,\n",
    "    bn_scaled,\n",
    "    bn_raw,\n",
    "    bn_var_inv,\n",
    "    bn_var,\n",
    "    bn_diff_square,\n",
    "    bn_diff,\n",
    "    bn_mean,\n",
    "    linear,\n",
    "    emb_concat,\n",
    "    emb,\n",
    "]:\n",
    "    t.retain_grad()\n",
    "\n",
    "loss.backward()\n",
    "loss"
   ]
  },
  {
   "cell_type": "code",
   "execution_count": 67,
   "metadata": {},
   "outputs": [
    {
     "name": "stdout",
     "output_type": "stream",
     "text": [
      "dlogprobs | Exact: True  | Approximate: True  | MaxDiff: 0.0  \n",
      "dprobs | Exact: True  | Approximate: True  | MaxDiff: 0.0  \n",
      "dcounts_sum_inv | Exact: True  | Approximate: True  | MaxDiff: 0.0  \n",
      "dcounts_sum | Exact: True  | Approximate: True  | MaxDiff: 0.0  \n",
      "dcounts | Exact: True  | Approximate: True  | MaxDiff: 0.0  \n",
      "dlogits_norm | Exact: True  | Approximate: True  | MaxDiff: 0.0  \n",
      "dlogits_max | Exact: True  | Approximate: True  | MaxDiff: 0.0  \n",
      "dlogits | Exact: True  | Approximate: True  | MaxDiff: 0.0  \n",
      "dhidden | Exact: True  | Approximate: True  | MaxDiff: 0.0  \n",
      "dW2   | Exact: True  | Approximate: True  | MaxDiff: 0.0  \n",
      "db2   | Exact: True  | Approximate: True  | MaxDiff: 0.0  \n",
      "dbn_scaled | Exact: True  | Approximate: True  | MaxDiff: 0.0  \n",
      "dbngain | Exact: True  | Approximate: True  | MaxDiff: 0.0  \n",
      "dbnbias | Exact: True  | Approximate: True  | MaxDiff: 0.0  \n",
      "dbn_raw | Exact: True  | Approximate: True  | MaxDiff: 0.0  \n",
      "dbn_var_inv | Exact: True  | Approximate: True  | MaxDiff: 0.0  \n",
      "dbn_var | Exact: True  | Approximate: True  | MaxDiff: 0.0  \n",
      "dbn_diff_square | Exact: True  | Approximate: True  | MaxDiff: 0.0  \n",
      "dbn_diff | Exact: True  | Approximate: True  | MaxDiff: 0.0  \n",
      "dbn_mean | Exact: True  | Approximate: True  | MaxDiff: 0.0  \n",
      "dlinear | Exact: True  | Approximate: True  | MaxDiff: 0.0  \n",
      "demb_concat | Exact: True  | Approximate: True  | MaxDiff: 0.0  \n",
      "dW1   | Exact: True  | Approximate: True  | MaxDiff: 0.0  \n",
      "db1   | Exact: True  | Approximate: True  | MaxDiff: 0.0  \n",
      "demb  | Exact: True  | Approximate: True  | MaxDiff: 0.0  \n",
      "dC    | Exact: True  | Approximate: True  | MaxDiff: 0.0  \n"
     ]
    }
   ],
   "source": [
    "# Backward Pass\n",
    "import torch.nn.functional as F\n",
    "\n",
    "# ======== Cross Entropy ========\n",
    "# loss = -logprobs[range(MINI_BATCH_SIZE), Yb].mean()\n",
    "dlogprobs = torch.zeros_like(logprobs)\n",
    "dlogprobs[range(logprobs.shape[0]), Yb] = -1.0 / logprobs.shape[0]\n",
    "cmp(\"dlogprobs\", dlogprobs, logprobs)\n",
    "\n",
    "# logprobs = probs.log()\n",
    "dprobs = (probs**-1) * dlogprobs\n",
    "cmp(\"dprobs\", dprobs, probs)\n",
    "\n",
    "# probs = counts * counts_sum_inv\n",
    "dcounts_sum_inv = (counts * dprobs).sum(dim=1, keepdim=True)\n",
    "cmp(\"dcounts_sum_inv\", dcounts_sum_inv, counts_sum_inv)\n",
    "dcounts_1 = counts_sum_inv * dprobs\n",
    "\n",
    "# counts_sum_inv = counts_sum ** -1\n",
    "dcounts_sum = (-1.0) * (counts_sum**-2) * dcounts_sum_inv\n",
    "cmp(\"dcounts_sum\", dcounts_sum, counts_sum)\n",
    "\n",
    "# counts_sum = counts.sum(dim=1, keepdim=True)\n",
    "dcounts_2 = torch.ones_like(counts) * dcounts_sum\n",
    "dcounts = dcounts_1 + dcounts_2\n",
    "cmp(\"dcounts\", dcounts, counts)\n",
    "\n",
    "# counts = logits_norm.exp()\n",
    "dlogits_norm = counts * dcounts  # logits_norm.exp() * dcounts == counts * dcounts\n",
    "cmp(\"dlogits_norm\", dlogits_norm, logits_norm)\n",
    "\n",
    "# logits_norm = logits - logits_max\n",
    "dlogits_max = torch.sum(-1.0 * torch.ones_like(logits_norm) * dlogits_norm, dim=1, keepdim=True)\n",
    "cmp(\"dlogits_max\", dlogits_max, logits_max)\n",
    "\n",
    "# logits_max = logits.max(1, keepdim=True).values\n",
    "dlogits = (\n",
    "    torch.ones_like(logits) * dlogits_norm\n",
    "    + F.one_hot(logits.max(dim=1, keepdim=False).indices, num_classes=logits.shape[1]) * dlogits_max\n",
    ")\n",
    "cmp(\"dlogits\", dlogits, logits)\n",
    "\n",
    "# ======== Layer 2 =========\n",
    "# logits = hidden @ W2 + b2\n",
    "dhidden = dlogits @ W2.T\n",
    "cmp(\"dhidden\", dhidden, hidden)\n",
    "dW2 = hidden.T @ dlogits\n",
    "cmp(\"dW2\", dW2, W2)\n",
    "db2 = torch.sum(dlogits, dim=0, keepdim=False)\n",
    "cmp(\"db2\", db2, b2)\n",
    "\n",
    "# ========= Activation ========\n",
    "# hidden = torch.tanh(bn_scaled)\n",
    "dbn_scaled = (1.0 - hidden**2) * dhidden\n",
    "cmp(\"dbn_scaled\", dbn_scaled, bn_scaled)\n",
    "\n",
    "# ========= Batch Norm ========\n",
    "# bn_scaled = bngain * bn_raw + bnbias\n",
    "dbngain = (bn_raw * dbn_scaled).sum(dim=0, keepdim=True)\n",
    "cmp(\"dbngain\", dbngain, bngain)\n",
    "dbnbias = torch.sum(torch.ones_like(dbn_scaled) * dbn_scaled, dim=0, keepdim=True)\n",
    "cmp(\"dbnbias\", dbnbias, bnbias)\n",
    "dbn_raw = bngain * dbn_scaled\n",
    "cmp(\"dbn_raw\", dbn_raw, bn_raw)\n",
    "\n",
    "# bn_raw = bn_diff * bn_var_inv\n",
    "dbn_var_inv = (bn_diff * dbn_raw).sum(dim=0, keepdim=True)\n",
    "cmp(\"dbn_var_inv\", dbn_var_inv, bn_var_inv)\n",
    "dbn_diff_1 = bn_var_inv * dbn_raw\n",
    "\n",
    "# bn_var_inv = (bn_var + 1e-5) ** -0.5\n",
    "dbn_var = (-0.5 * (bn_var + 1e-5) ** -1.5) * dbn_var_inv\n",
    "cmp(\"dbn_var\", dbn_var, bn_var)\n",
    "\n",
    "# bn_var = (1/(MINI_BATCH_SIZE-1)) * bn_diff_square.sum(dim=0, keepdim=True)\n",
    "dbn_diff_square = (1 / (MINI_BATCH_SIZE - 1)) * torch.ones_like(bn_diff_square) * dbn_var\n",
    "cmp(\"dbn_diff_square\", dbn_diff_square, bn_diff_square)\n",
    "\n",
    "# bn_diff_square = bn_diff ** 2\n",
    "dbn_diff_2 = 2.0 * bn_diff * dbn_diff_square\n",
    "dbn_diff = dbn_diff_1 + dbn_diff_2\n",
    "cmp(\"dbn_diff\", dbn_diff, bn_diff)\n",
    "\n",
    "# bn_diff = linear - bn_mean\n",
    "dbn_mean = torch.sum(-1.0 * torch.ones_like(bn_diff) * dbn_diff, dim=0, keepdim=True)\n",
    "cmp(\"dbn_mean\", dbn_mean, bn_mean)\n",
    "# bn_mean = (1/MINI_BATCH_SIZE) * linear.sum(dim=0, keepdim=True)\n",
    "dlinear = torch.ones_like(linear) * dbn_diff + (1 / MINI_BATCH_SIZE) * torch.ones_like(linear) * dbn_mean\n",
    "cmp(\"dlinear\", dlinear, linear)\n",
    "\n",
    "# ======== Layer 1 =========\n",
    "# linear = emb_concat @ W1 + b1\n",
    "demb_concat = dlinear @ W1.T\n",
    "cmp(\"demb_concat\", demb_concat, emb_concat)\n",
    "dW1 = emb_concat.T @ dlinear\n",
    "cmp(\"dW1\", dW1, W1)\n",
    "db1 = dlinear.sum(dim=0, keepdim=True)\n",
    "cmp(\"db1\", db1, b1)\n",
    "\n",
    "\n",
    "# ========= Embedding =========\n",
    "# emb_concat = emb.view(emb.shape[0], -1)\n",
    "demb = demb_concat.view(emb.shape)\n",
    "cmp(\"demb\", demb, emb)\n",
    "\n",
    "# emb = C[Xb]\n",
    "# emb = F.one_hot(Xb, num_classes=C.shape[0]) @ C\n",
    "dC = torch.zeros_like(C)\n",
    "for row in range(Xb.shape[0]):\n",
    "    for col in range(Xb.shape[1]):\n",
    "        ix = Xb[row][col]\n",
    "        dC[ix] += demb[row][col]\n",
    "\n",
    "cmp(\"dC\", dC, C)"
   ]
  },
  {
   "cell_type": "markdown",
   "metadata": {},
   "source": [
    "# Fast Backprop for the Loss function (Cross Entropy)"
   ]
  },
  {
   "cell_type": "code",
   "execution_count": 68,
   "metadata": {},
   "outputs": [
    {
     "name": "stdout",
     "output_type": "stream",
     "text": [
      "3.349898099899292 diff: -2.384185791015625e-07\n",
      "dlogits | Exact: False | Approximate: True  | MaxDiff: 6.05359673500061e-09\n"
     ]
    }
   ],
   "source": [
    "\"\"\" Cross Entropy\n",
    "logits_max = logits.max(1, keepdim=True).values\n",
    "logits_norm = logits - logits_max\n",
    "counts = logits_norm.exp()\n",
    "counts_sum = counts.sum(dim=1, keepdim=True)\n",
    "counts_sum_inv = counts_sum ** -1\n",
    "probs = counts * counts_sum_inv\n",
    "logprobs = probs.log()\n",
    "loss = -logprobs[range(MINI_BATCH_SIZE), Yb].mean()\n",
    "\"\"\"\n",
    "loss_fast = F.cross_entropy(logits, Yb)\n",
    "print(loss_fast.item(), \"diff:\", (loss_fast - loss).item())\n",
    "\n",
    "# Backward Pass\n",
    "dlogits = F.softmax(logits, dim=1)\n",
    "dlogits[range(MINI_BATCH_SIZE), Yb] -= 1\n",
    "dlogits /= MINI_BATCH_SIZE\n",
    "cmp(\"dlogits\", dlogits, logits)"
   ]
  },
  {
   "cell_type": "code",
   "execution_count": 69,
   "metadata": {},
   "outputs": [
    {
     "data": {
      "text/plain": [
       "(torch.Size([32, 27]), torch.Size([32]))"
      ]
     },
     "execution_count": 69,
     "metadata": {},
     "output_type": "execute_result"
    }
   ],
   "source": [
    "logits.shape, Yb.shape"
   ]
  },
  {
   "cell_type": "markdown",
   "metadata": {},
   "source": [
    "Ideally, we want the output of the softmax layer (`F.softmax(logits, dim=1)`) to be all 0, except the one that matches the label in the target to be 1. If that was the case, then dlogits would be all 0 and the model is perfect.\n",
    "\n",
    "In reality, the derivative substracts 1 from the value of the correct index in softmax outputs, making it as negative as possible. This actually boosts its value to be as positive towards 1 as possible through optimizer (v.data += -lr * v.grad). Whereas for other indexes, the process decreases their values to be as close to 0 as possible given their gradients are positive."
   ]
  },
  {
   "cell_type": "code",
   "execution_count": 70,
   "metadata": {},
   "outputs": [
    {
     "name": "stdout",
     "output_type": "stream",
     "text": [
      "1st row of Softmax: tensor([0.0646, 0.0904, 0.0189, 0.0523, 0.0193, 0.0812, 0.0267, 0.0355, 0.0179,\n",
      "        0.0311, 0.0359, 0.0355, 0.0388, 0.0298, 0.0357, 0.0141, 0.0100, 0.0198,\n",
      "        0.0172, 0.0516, 0.0475, 0.0216, 0.0276, 0.0675, 0.0620, 0.0271, 0.0206],\n",
      "       grad_fn=<SelectBackward0>)\n",
      "selected 8th element\n",
      "Sum of 1st row: -5.21540641784668e-08\n",
      "1st row: tensor([ 0.0646,  0.0904,  0.0189,  0.0523,  0.0193,  0.0812,  0.0267,  0.0355,\n",
      "        -0.9821,  0.0311,  0.0359,  0.0355,  0.0388,  0.0298,  0.0357,  0.0141,\n",
      "         0.0100,  0.0198,  0.0172,  0.0516,  0.0475,  0.0216,  0.0276,  0.0675,\n",
      "         0.0620,  0.0271,  0.0206], grad_fn=<MulBackward0>)\n"
     ]
    },
    {
     "data": {
      "text/plain": [
       "<matplotlib.image.AxesImage at 0x15a6edc30>"
      ]
     },
     "execution_count": 70,
     "metadata": {},
     "output_type": "execute_result"
    },
    {
     "data": {
      "image/png": "[encoded data removed]",
      "text/plain": [
       "<Figure size 400x400 with 1 Axes>"
      ]
     },
     "metadata": {},
     "output_type": "display_data"
    }
   ],
   "source": [
    "print(f\"1st row of Softmax: {F.softmax(logits, dim=1)[0]}\")\n",
    "print(f\"selected {Yb[0]}th element\")\n",
    "# Each row of dlogits sums to 0.\n",
    "# Because d_cross_entropy = Softmax - one_hot, whereas the sum of softmax equals to 1, and sum of one_hot also equals to 1.\n",
    "print(f\"Sum of 1st row: {dlogits[0].sum() * MINI_BATCH_SIZE}\")\n",
    "# The one selected (10th) has the negative gradients, kind of pulling down the plane.\n",
    "print(f\"1st row: {dlogits[0] * MINI_BATCH_SIZE}\")\n",
    "plt.figure(figsize=(4, 4))\n",
    "plt.imshow(dlogits.detach(), cmap=\"gray\")"
   ]
  },
  {
   "cell_type": "markdown",
   "metadata": {},
   "source": [
    "# Fast backprop for the BatchNorm"
   ]
  },
  {
   "cell_type": "code",
   "execution_count": 71,
   "metadata": {},
   "outputs": [
    {
     "name": "stdout",
     "output_type": "stream",
     "text": [
      "max diff: tensor(8.9874, grad_fn=<MaxBackward1>)\n",
      "dlinear | Exact: False | Approximate: True  | MaxDiff: 9.313225746154785e-10\n"
     ]
    }
   ],
   "source": [
    "\"\"\"\n",
    "bn_mean = (1/MINI_BATCH_SIZE) * linear.sum(dim=0, keepdim=True)\n",
    "bn_diff = linear - bn_mean\n",
    "bn_diff_square = bn_diff ** 2\n",
    "bn_var = (1/(MINI_BATCH_SIZE-1)) * bn_diff_square.sum(dim=0, keepdim=True)\n",
    "bn_var_inv = (bn_var + 1e-5) ** -0.5\n",
    "bn_raw = bn_diff * bn_var_inv\n",
    "bn_scaled = bngain * bn_raw + bnbias\n",
    "\"\"\"\n",
    "bn_scaled_fast = (\n",
    "    bngain * (linear - linear.mean(0, keepdim=True)) / (linear.var(0, keepdim=True, unbiased=True) + 1e-5) ** -0.5\n",
    "    + bnbias\n",
    ")\n",
    "print(\"max diff:\", (bn_scaled_fast - bn_scaled).abs().max())\n",
    "\n",
    "# Backprop\n",
    "dlinear = (\n",
    "    bngain\n",
    "    * bn_var_inv\n",
    "    / MINI_BATCH_SIZE\n",
    "    * (\n",
    "        MINI_BATCH_SIZE * dbn_scaled\n",
    "        - dbn_scaled.sum(0)\n",
    "        - MINI_BATCH_SIZE / (MINI_BATCH_SIZE - 1) * bn_raw * (dbn_scaled * bn_raw).sum(0)\n",
    "    )\n",
    ")\n",
    "\n",
    "cmp(\"dlinear\", dlinear, linear)  # I can only get approximate to be true, my maxdiff is 9e-10"
   ]
  },
  {
   "cell_type": "markdown",
   "metadata": {},
   "source": [
    "# All in together"
   ]
  },
  {
   "cell_type": "code",
   "execution_count": 72,
   "metadata": {},
   "outputs": [
    {
     "name": "stdout",
     "output_type": "stream",
     "text": [
      "4137\n",
      "      0/ 200000: 3.3378\n",
      "  10000/ 200000: 2.4359\n",
      "  20000/ 200000: 2.1127\n",
      "  30000/ 200000: 2.3243\n",
      "  40000/ 200000: 2.2405\n",
      "  50000/ 200000: 2.1444\n",
      "  60000/ 200000: 2.1594\n",
      "  70000/ 200000: 2.3827\n",
      "  80000/ 200000: 2.1310\n",
      "  90000/ 200000: 2.5554\n",
      " 100000/ 200000: 2.1805\n",
      " 110000/ 200000: 1.8397\n",
      " 120000/ 200000: 2.0938\n",
      " 130000/ 200000: 2.5371\n",
      " 140000/ 200000: 1.8366\n",
      " 150000/ 200000: 2.1594\n",
      " 160000/ 200000: 2.0352\n",
      " 170000/ 200000: 2.1917\n",
      " 180000/ 200000: 1.9685\n",
      " 190000/ 200000: 1.9738\n"
     ]
    }
   ],
   "source": [
    "# Constants\n",
    "ALPHABET_SPACE = len(stoi)\n",
    "NGRAM_SIZE = 3\n",
    "REPRESENTATION_DIM = 10\n",
    "HIDDEN_LAYER_DIM = 64\n",
    "MINI_BATCH_SIZE = 32\n",
    "\n",
    "# Initialization\n",
    "g = torch.Generator().manual_seed(2147483647)\n",
    "C = torch.randn([ALPHABET_SPACE, REPRESENTATION_DIM], generator=g)  # (27, 10)\n",
    "# Layer 1\n",
    "W1 = (\n",
    "    torch.randn([NGRAM_SIZE * REPRESENTATION_DIM, HIDDEN_LAYER_DIM], generator=g)\n",
    "    * (5 / 3)\n",
    "    / ((NGRAM_SIZE * REPRESENTATION_DIM) ** 0.5)\n",
    ")  # (30, 64)\n",
    "b1 = torch.randn([HIDDEN_LAYER_DIM], generator=g) * 0.1  # (64,)\n",
    "# Layer 2\n",
    "W2 = torch.randn([HIDDEN_LAYER_DIM, ALPHABET_SPACE], generator=g) * 0.1  # (64, 27)\n",
    "b2 = torch.randn([ALPHABET_SPACE], generator=g) * 0.1  # (27,)\n",
    "# BatchNorm Layer\n",
    "bngain = torch.randn([1, HIDDEN_LAYER_DIM]) * 0.1 + 1.0  # (64,)\n",
    "bnbias = torch.randn([1, HIDDEN_LAYER_DIM]) * 0.1  # (64,)\n",
    "\n",
    "parameters = [C, W1, b1, W2, b2, bngain, bnbias]\n",
    "print(sum(p.nelement() for p in parameters))\n",
    "for p in parameters:\n",
    "    p.requires_grad = True\n",
    "\n",
    "#\n",
    "max_steps = 200000\n",
    "lossi = []\n",
    "\n",
    "with torch.no_grad():\n",
    "    for i in range(max_steps):\n",
    "        # mini batch\n",
    "        ix = torch.randint(0, Xtr.shape[0], (MINI_BATCH_SIZE,), generator=g)\n",
    "        Xb, Yb = Xtr[ix], Ytr[ix]\n",
    "\n",
    "        # forward\n",
    "        emb = C[Xb]\n",
    "        emb_concat = emb.view(Xb.shape[0], -1)\n",
    "\n",
    "        linear = emb_concat @ W1 + b1\n",
    "\n",
    "        bn_mean = linear.mean(dim=0, keepdim=True)\n",
    "        bn_var = linear.var(dim=0, unbiased=True, keepdim=True)\n",
    "        bn_var_inv = (bn_var + 1e-5) ** -0.5\n",
    "        bn_raw = (linear - bn_mean) * bn_var_inv\n",
    "        bn_scaled = bngain * bn_raw + bnbias\n",
    "\n",
    "        hidden = torch.tanh(bn_scaled)\n",
    "\n",
    "        logits = hidden @ W2 + b2\n",
    "        loss = F.cross_entropy(logits, Yb)\n",
    "\n",
    "        # Backprop\n",
    "        for p in parameters:\n",
    "            p.grad = None\n",
    "\n",
    "        # PyTorch backprop\n",
    "        # loss.backward()\n",
    "\n",
    "        # Manual backprop\n",
    "        dlogits = F.softmax(logits, dim=1)\n",
    "        dlogits[range(MINI_BATCH_SIZE), Yb] -= 1\n",
    "        dlogits /= MINI_BATCH_SIZE\n",
    "\n",
    "        dhidden = dlogits @ W2.T\n",
    "        dW2 = hidden.T @ dlogits\n",
    "        db2 = dlogits.sum(dim=0, keepdim=False)\n",
    "\n",
    "        dbn_scaled = (1.0 - hidden**2) * dhidden\n",
    "\n",
    "        dbngain = (bn_raw * dbn_scaled).sum(dim=0, keepdim=True)\n",
    "        dbnbias = dbn_scaled.sum(dim=0, keepdim=True)\n",
    "        dlinear = (\n",
    "            bngain\n",
    "            * bn_var_inv\n",
    "            / MINI_BATCH_SIZE\n",
    "            * (\n",
    "                MINI_BATCH_SIZE * dbn_scaled\n",
    "                - dbn_scaled.sum(0)\n",
    "                - MINI_BATCH_SIZE / (MINI_BATCH_SIZE - 1) * bn_raw * (dbn_scaled * bn_raw).sum(0)\n",
    "            )\n",
    "        )\n",
    "\n",
    "        demb_concat = dlinear @ W1.T\n",
    "        dW1 = emb_concat.T @ dlinear\n",
    "        db1 = dlinear.sum(dim=0, keepdim=False)\n",
    "\n",
    "        demb = demb_concat.view(emb.shape)\n",
    "\n",
    "        dC = torch.zeros_like(C)\n",
    "        for row in range(Xb.shape[0]):\n",
    "            for col in range(Xb.shape[1]):\n",
    "                ix = Xb[row][col]\n",
    "                dC[ix] += demb[row][col]\n",
    "\n",
    "        grads = [dC, dW1, db1, dW2, db2, dbngain, dbnbias]\n",
    "\n",
    "        # Optimize\n",
    "        lr = 0.1 if i < 100_000 else 0.01\n",
    "        for p, grad in zip(parameters, grads):\n",
    "            # p.data += lr * p.grad # PyTorch\n",
    "            p.data += -lr * grad\n",
    "\n",
    "        if i % 10_000 == 0:\n",
    "            print(f\"{i:7d}/{max_steps:7d}: {loss.item():.4f}\")\n",
    "        lossi.append(loss.log10().item())"
   ]
  },
  {
   "cell_type": "code",
   "execution_count": 73,
   "metadata": {},
   "outputs": [],
   "source": [
    "# Calibrate after training\n",
    "with torch.no_grad():\n",
    "    emb = C[Xtr]\n",
    "    emb_concat = emb.view(Xtr.shape[0], -1)\n",
    "    linear = emb_concat @ W1 + b1\n",
    "    bn_mean = linear.mean(dim=0, keepdim=True)\n",
    "    bn_var = linear.var(dim=0, keepdim=True, unbiased=True)"
   ]
  },
  {
   "cell_type": "code",
   "execution_count": 74,
   "metadata": {},
   "outputs": [
    {
     "name": "stdout",
     "output_type": "stream",
     "text": [
      "train 2.1463329792022705\n",
      "val 2.162074565887451\n"
     ]
    }
   ],
   "source": [
    "# Evaluation\n",
    "\n",
    "\n",
    "@torch.no_grad()\n",
    "def split_loss(split: str):\n",
    "    x, y = {\"train\": (Xtr, Ytr), \"val\": (Xval, Yval), \"test\": (Xtest, Ytest)}[split]\n",
    "    emb = C[x]\n",
    "    emb_concat = emb.view(x.shape[0], -1)\n",
    "    linear = emb_concat @ W1 + b1\n",
    "    bn_scaled = bngain * (linear - bn_mean) * (bn_var + 1e-5) ** -0.5 + bnbias\n",
    "    hidden = torch.tanh(bn_scaled)\n",
    "    logits = hidden @ W2 + b2\n",
    "    loss = F.cross_entropy(logits, y)\n",
    "    print(split, loss.item())\n",
    "\n",
    "\n",
    "split_loss(\"train\")\n",
    "split_loss(\"val\")"
   ]
  },
  {
   "cell_type": "code",
   "execution_count": 75,
   "metadata": {},
   "outputs": [
    {
     "name": "stdout",
     "output_type": "stream",
     "text": [
      "carlah.\n",
      "amelle.\n",
      "khi.\n",
      "mrixhelty.\n",
      "salaysie.\n",
      "rahnen.\n",
      "den.\n",
      "rha.\n",
      "kaeli.\n",
      "nellaiah.\n",
      "maiivon.\n",
      "leigh.\n",
      "ham.\n",
      "joce.\n",
      "quinn.\n",
      "shon.\n",
      "marianni.\n",
      "wanthoniearisi.\n",
      "jacee.\n",
      "durli.\n"
     ]
    }
   ],
   "source": [
    "# Sample\n",
    "g = torch.Generator().manual_seed(2147483647 + 10)\n",
    "\n",
    "for _ in range(20):\n",
    "    outs = []\n",
    "    context = [0] * NGRAM_SIZE\n",
    "\n",
    "    while True:\n",
    "        # Forward pass:\n",
    "        # Embedding:\n",
    "        emb = C[torch.tensor([context])]\n",
    "        emb_concat = emb.view(emb.shape[0], -1)\n",
    "        linear = emb_concat @ W1 + b1\n",
    "        bn_scaled = bngain * (linear - bn_mean) * (bn_var + 1e-5) ** -0.5 + bnbias\n",
    "        hidden = torch.tanh(bn_scaled)\n",
    "        logits = hidden @ W2 + b2\n",
    "\n",
    "        # Sampling\n",
    "        probs = F.softmax(logits, dim=1)\n",
    "        ix = torch.multinomial(probs, num_samples=1, replacement=True, generator=g).item()\n",
    "        context = context[1:] + [ix]\n",
    "        outs.append(ix)\n",
    "        if ix == 0:\n",
    "            break\n",
    "\n",
    "    print(\"\".join(itos[i] for i in outs))"
   ]
  }
 ],
 "metadata": {
  "kernelspec": {
   "display_name": "Python 3.9.11 ('base')",
   "language": "python",
   "name": "python3"
  },
  "language_info": {
   "codemirror_mode": {
    "name": "ipython",
    "version": 3
   },
   "file_extension": ".py",
   "mimetype": "text/x-python",
   "name": "python",
   "nbconvert_exporter": "python",
   "pygments_lexer": "ipython3",
   "version": "3.10.13"
  },
  "orig_nbformat": 4,
  "vscode": {
   "interpreter": {
    "hash": "f7dc663557200197b1ecb639904d6775340f1f12cbb992d7264be98ae917f5fb"
   }
  }
 },
 "nbformat": 4,
 "nbformat_minor": 2
}
