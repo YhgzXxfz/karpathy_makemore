{
 "cells": [
  {
   "cell_type": "markdown",
   "metadata": {},
   "source": [
    "# 0. Preparation"
   ]
  },
  {
   "cell_type": "code",
   "execution_count": 1,
   "metadata": {},
   "outputs": [],
   "source": [
    "import torch\n",
    "import torch.nn.functional as F\n",
    "import matplotlib.pyplot as plt\n",
    "%matplotlib inline"
   ]
  },
  {
   "cell_type": "code",
   "execution_count": 2,
   "metadata": {},
   "outputs": [
    {
     "data": {
      "text/plain": [
       "['emma',\n",
       " 'olivia',\n",
       " 'ava',\n",
       " 'isabella',\n",
       " 'sophia',\n",
       " 'charlotte',\n",
       " 'mia',\n",
       " 'amelia',\n",
       " 'harper',\n",
       " 'evelyn']"
      ]
     },
     "execution_count": 2,
     "metadata": {},
     "output_type": "execute_result"
    }
   ],
   "source": [
    "words = open('names.txt', 'r').read().splitlines()\n",
    "words[:10]"
   ]
  },
  {
   "cell_type": "code",
   "execution_count": 3,
   "metadata": {},
   "outputs": [],
   "source": [
    "alphabet = sorted(list(set(''.join(words))))\n",
    "stoi = {s:i+1 for (i, s) in enumerate(alphabet)}\n",
    "stoi['.'] = 0\n",
    "itos = {i:s for (s, i) in stoi.items()}"
   ]
  },
  {
   "cell_type": "code",
   "execution_count": 4,
   "metadata": {},
   "outputs": [],
   "source": [
    "ALPHABET_SPACE = len(stoi) # 26 letters + 1 special char\n",
    "NGRAM_SIZE = 3 # number of letters to predict the next letter\n",
    "REPRESENTATION_DIM = 10 # dim of tensor to represent a label in the alphabet space\n",
    "HIDDEN_LAYER_NEURON_NUM = 200\n",
    "MINI_BATCH_SIZE = 32"
   ]
  },
  {
   "cell_type": "markdown",
   "metadata": {},
   "source": [
    "# 1. Create Data Set"
   ]
  },
  {
   "cell_type": "code",
   "execution_count": 5,
   "metadata": {},
   "outputs": [],
   "source": [
    "def create_data_set(words, ngram_size: int = 3, test_for_visualization: bool = False):\n",
    "    X, Y = [], []\n",
    "    for w in words:\n",
    "        string = w + '.'\n",
    "        window = [0] * ngram_size\n",
    "        for ch in string:\n",
    "            X.append(window)\n",
    "            Y.append(stoi[ch])\n",
    "            window = window[1:] + [stoi[ch]]\n",
    "\n",
    "    if test_for_visualization:\n",
    "        [print(''.join(itos[i] for i in prefix), '-->', itos[target]) for (prefix, target) in zip(X[:5], Y[:5])]\n",
    "\n",
    "    X = torch.tensor(X)\n",
    "    Y = torch.tensor(Y)\n",
    "    return X, Y\n"
   ]
  },
  {
   "cell_type": "code",
   "execution_count": 245,
   "metadata": {},
   "outputs": [
    {
     "data": {
      "text/plain": [
       "(torch.Size([228146, 3]), torch.Size([228146]))"
      ]
     },
     "execution_count": 245,
     "metadata": {},
     "output_type": "execute_result"
    }
   ],
   "source": [
    "X, Y = create_data_set(words=words, ngram_size=NGRAM_SIZE)\n",
    "X.shape, Y.shape"
   ]
  },
  {
   "cell_type": "markdown",
   "metadata": {},
   "source": [
    "# 2. Exploration"
   ]
  },
  {
   "cell_type": "markdown",
   "metadata": {},
   "source": [
    "### 2.1 Embedding"
   ]
  },
  {
   "cell_type": "code",
   "execution_count": 75,
   "metadata": {},
   "outputs": [
    {
     "name": "stdout",
     "output_type": "stream",
     "text": [
      "tensor([-0.4713,  0.7868])\n",
      "tensor([-0.4713,  0.7868])\n"
     ]
    },
    {
     "data": {
      "text/plain": [
       "torch.Size([12, 3, 2])"
      ]
     },
     "execution_count": 75,
     "metadata": {},
     "output_type": "execute_result"
    }
   ],
   "source": [
    "# Use a 2-dimensional tensor to represent each integer in X\n",
    "g = torch.Generator().manual_seed(2147483647)\n",
    "C = torch.randn(size=[27, 2], generator=g)\n",
    "\n",
    "# One hot representation multiplies mapping matrix is just equal to the ith element in that mapping matrix\n",
    "print(F.one_hot(torch.tensor(5), num_classes=27).float() @ C)\n",
    "print(C[5])\n",
    "\n",
    "\n",
    "emb = C[X]\n",
    "emb.shape"
   ]
  },
  {
   "cell_type": "markdown",
   "metadata": {},
   "source": [
    "### 2.2 1st layer"
   ]
  },
  {
   "cell_type": "code",
   "execution_count": 76,
   "metadata": {},
   "outputs": [
    {
     "data": {
      "text/plain": [
       "(torch.Size([6, 100]), torch.Size([100]))"
      ]
     },
     "execution_count": 76,
     "metadata": {},
     "output_type": "execute_result"
    }
   ],
   "source": [
    "W1 = torch.randn(size=[3*2, 100], generator=g) # [6, 100]\n",
    "b1 = torch.randn(size=[100], generator=g) # [100, ]\n",
    "W1.shape, b1.shape\n"
   ]
  },
  {
   "cell_type": "markdown",
   "metadata": {},
   "source": [
    "### 2.3 2nd layer & loss"
   ]
  },
  {
   "cell_type": "code",
   "execution_count": 77,
   "metadata": {},
   "outputs": [
    {
     "name": "stdout",
     "output_type": "stream",
     "text": [
      "hidden.shape=torch.Size([12, 100])\n",
      "logits.shape=torch.Size([12, 27])\n",
      "probs.shape=torch.Size([12, 27])\n"
     ]
    },
    {
     "data": {
      "text/plain": [
       "tensor(20.7275)"
      ]
     },
     "execution_count": 77,
     "metadata": {},
     "output_type": "execute_result"
    }
   ],
   "source": [
    "hidden = torch.tanh(emb.view(-1, 3 * 2) @ W1 + b1) # [len, 6] * [6, 100] + [100, ] = [len, 100]\n",
    "print(f\"{hidden.shape=}\")\n",
    "\n",
    "W2 = torch.randn(size=[100, 27], generator=g) # [100, 27]\n",
    "b2 = torch.randn(size=[27], generator=g) # [27,]\n",
    "logits = hidden @ W2 + b2\n",
    "print(f\"{logits.shape=}\")\n",
    "\n",
    "counts = logits.exp()\n",
    "probs = counts / counts.sum(dim=1, keepdim=True)\n",
    "print(f\"{probs.shape=}\")\n",
    "\n",
    "loss = -probs[torch.arange(12), Y].log().mean()\n",
    "loss\n"
   ]
  },
  {
   "cell_type": "markdown",
   "metadata": {},
   "source": [
    "### 2.4 PyTorch functions"
   ]
  },
  {
   "cell_type": "code",
   "execution_count": 82,
   "metadata": {},
   "outputs": [
    {
     "name": "stdout",
     "output_type": "stream",
     "text": [
      "The slowest run took 27.39 times longer than the fastest. This could mean that an intermediate result is being cached.\n",
      "84.9 µs ± 113 µs per loop (mean ± std. dev. of 10 runs, 1 loop each)\n",
      "The slowest run took 27.29 times longer than the fastest. This could mean that an intermediate result is being cached.\n",
      "21.4 µs ± 44.5 µs per loop (mean ± std. dev. of 10 runs, 1 loop each)\n",
      "The slowest run took 13.40 times longer than the fastest. This could mean that an intermediate result is being cached.\n",
      "2.81 µs ± 3.75 µs per loop (mean ± std. dev. of 10 runs, 1 loop each)\n"
     ]
    }
   ],
   "source": [
    "# Same results\n",
    "%timeit -r 10 -n 1 naive_reshape = torch.cat((emb[:, 0, :], emb[:, 1, :], emb[:, 2, :])) # Does not scale for hardcoded index\n",
    "%timeit -r 10 -n 1 intermediate_reshape = torch.cat(torch.unbind(input=emb, dim=1)) # Scalable, but still creates new tensors which takes space and time\n",
    "%timeit -r 10 -n 1 advanced_reshape = emb.view(size=[-1, 3 * 2]) # Efficient, no new tensors are created"
   ]
  },
  {
   "cell_type": "code",
   "execution_count": 74,
   "metadata": {},
   "outputs": [
    {
     "name": "stdout",
     "output_type": "stream",
     "text": [
      "tensor([[0.1461, 0.2643, 0.1317, 0.2584, 0.1994],\n",
      "        [0.3629, 0.3050, 0.0801, 0.1093, 0.1427],\n",
      "        [0.2853, 0.3179, 0.0723, 0.1629, 0.1617]])\n",
      "tensor([[0.1461, 0.2643, 0.1317, 0.2584, 0.1994],\n",
      "        [0.3629, 0.3050, 0.0801, 0.1093, 0.1427],\n",
      "        [0.2853, 0.3179, 0.0723, 0.1629, 0.1617]])\n",
      "tensor(1.3956)\n",
      "tensor(1.3956)\n"
     ]
    }
   ],
   "source": [
    "# Same results\n",
    "# Softmax\n",
    "A = torch.randn(size=[3, 5])\n",
    "counts = A.exp()\n",
    "probs = counts / counts.sum(dim=1, keepdim=True)\n",
    "print(probs)\n",
    "print(F.softmax(A, dim=1)) # Learning: PyTorch implementations are more numerical stable by substracting the max to avoid overflow, and more efficient by using the mathematical derivative without intermediate variables\n",
    "\n",
    "# Cross Entropy\n",
    "B = torch.randint(low=0, high=4, size=[3])\n",
    "print(-probs[torch.arange(3), B].log().mean()) # Note probs must be softmaxed\n",
    "print(F.cross_entropy(A, B)) # Learning: Again, prefer PyTorch implementations"
   ]
  },
  {
   "cell_type": "markdown",
   "metadata": {},
   "source": [
    "# 3. Build the Network"
   ]
  },
  {
   "cell_type": "code",
   "execution_count": 6,
   "metadata": {},
   "outputs": [],
   "source": [
    "import random\n",
    "random.seed(42)\n",
    "random.shuffle(words)\n",
    "n1 = int(0.8*len(words))\n",
    "n2 = int(0.9*len(words))\n",
    "\n",
    "Xtr, Ytr = create_data_set(words=words[:n1], ngram_size=NGRAM_SIZE)\n",
    "Xval, Yval = create_data_set(words=words[n1:n2], ngram_size=NGRAM_SIZE)\n",
    "Xtest, Ytest = create_data_set(words=words[n2:], ngram_size=NGRAM_SIZE)"
   ]
  },
  {
   "cell_type": "code",
   "execution_count": 7,
   "metadata": {},
   "outputs": [
    {
     "data": {
      "text/plain": [
       "(tensor([0, 0, 0]), tensor([0, 0, 0]), tensor([0, 0, 0]))"
      ]
     },
     "execution_count": 7,
     "metadata": {},
     "output_type": "execute_result"
    }
   ],
   "source": [
    "Xtr[0], Xval[0], Xtest[0]"
   ]
  },
  {
   "cell_type": "code",
   "execution_count": 54,
   "metadata": {},
   "outputs": [
    {
     "name": "stdout",
     "output_type": "stream",
     "text": [
      "11897\n"
     ]
    }
   ],
   "source": [
    "g = torch.Generator().manual_seed(2147483647)\n",
    "C = torch.randn(size=[ALPHABET_SPACE, REPRESENTATION_DIM], generator=g)\n",
    "W1 = torch.randn(size=[REPRESENTATION_DIM * NGRAM_SIZE, HIDDEN_LAYER_NEURON_NUM], generator=g)\n",
    "b1 = torch.randn(size=[HIDDEN_LAYER_NEURON_NUM], generator=g)\n",
    "W2 = torch.randn(size=[HIDDEN_LAYER_NEURON_NUM, ALPHABET_SPACE], generator=g)\n",
    "b2 = torch.randn(size=[ALPHABET_SPACE], generator=g)\n",
    "parameters = [C, W1, b1, W2, b2]\n",
    "print(sum(p.nelement() for p in parameters))\n",
    "\n",
    "for p in parameters:\n",
    "    p.requires_grad = True"
   ]
  },
  {
   "cell_type": "code",
   "execution_count": 55,
   "metadata": {},
   "outputs": [],
   "source": [
    "losses = []"
   ]
  },
  {
   "cell_type": "code",
   "execution_count": 56,
   "metadata": {},
   "outputs": [],
   "source": [
    "def SGD(X, Y, epochs: int = 1000, learning_rate: float = 0.1, mini_batch_size: int = 32, losses: list=[]):\n",
    "    for i in range(epochs):\n",
    "        ix = torch.randint(low=0, high=X.shape[0], size=[mini_batch_size])\n",
    "\n",
    "        # forward pass\n",
    "        emb = C[X[ix]]\n",
    "        hidden = torch.tanh(emb.view(size=[-1, REPRESENTATION_DIM * NGRAM_SIZE]) @ W1 + b1)\n",
    "        logits = hidden @ W2 + b2\n",
    "        loss = F.cross_entropy(logits, Y[ix]) \n",
    "        losses.append(loss.log10().item())\n",
    "\n",
    "        # backward pass\n",
    "        for p in parameters:\n",
    "            p.grad = None\n",
    "        loss.backward()\n",
    "\n",
    "        # Optimize\n",
    "        learning_rate = 0.1 if i < 100000 else 0.01\n",
    "        for p in parameters:\n",
    "            p.data += -learning_rate * p.grad\n",
    "\n",
    "    return loss.item()"
   ]
  },
  {
   "cell_type": "markdown",
   "metadata": {},
   "source": [
    "### 3.1 Training"
   ]
  },
  {
   "cell_type": "code",
   "execution_count": 57,
   "metadata": {},
   "outputs": [
    {
     "name": "stdout",
     "output_type": "stream",
     "text": [
      "2.3835363388061523\n"
     ]
    }
   ],
   "source": [
    "# Training\n",
    "loss = SGD(X=Xtr, Y=Ytr, epochs=200000, learning_rate=0.01, losses=losses, mini_batch_size=MINI_BATCH_SIZE)\n",
    "print(loss)"
   ]
  },
  {
   "cell_type": "code",
   "execution_count": 58,
   "metadata": {},
   "outputs": [
    {
     "name": "stdout",
     "output_type": "stream",
     "text": [
      "200000\n"
     ]
    },
    {
     "data": {
      "text/plain": [
       "[<matplotlib.lines.Line2D at 0x156433ee0>]"
      ]
     },
     "execution_count": 58,
     "metadata": {},
     "output_type": "execute_result"
    },
    {
     "data": {
      "image/png": "[encoded data removed]",
      "text/plain": [
       "<Figure size 432x288 with 1 Axes>"
      ]
     },
     "metadata": {
      "needs_background": "light"
     },
     "output_type": "display_data"
    }
   ],
   "source": [
    "print(len(losses))\n",
    "plt.plot(range(len(losses)), losses)"
   ]
  },
  {
   "cell_type": "markdown",
   "metadata": {},
   "source": [
    "### 3.2 Validation"
   ]
  },
  {
   "cell_type": "code",
   "execution_count": 48,
   "metadata": {},
   "outputs": [],
   "source": [
    "def forward(X, Y):\n",
    "    emb = C[X]\n",
    "    hidden = torch.tanh(emb.view(size=[-1, REPRESENTATION_DIM * NGRAM_SIZE]) @ W1 + b1)\n",
    "    logits = hidden @ W2 + b2\n",
    "    loss = F.cross_entropy(logits, Y) \n",
    "    return loss"
   ]
  },
  {
   "cell_type": "code",
   "execution_count": 59,
   "metadata": {},
   "outputs": [
    {
     "name": "stdout",
     "output_type": "stream",
     "text": [
      "tensor(2.1318, grad_fn=<NllLossBackward0>)\n",
      "tensor(2.1702, grad_fn=<NllLossBackward0>)\n"
     ]
    }
   ],
   "source": [
    "print(forward(X=Xtr, Y=Ytr))\n",
    "\n",
    "print(forward(X=Xval, Y=Yval))"
   ]
  },
  {
   "cell_type": "code",
   "execution_count": 60,
   "metadata": {},
   "outputs": [
    {
     "data": {
      "image/png": "[encoded data removed]",
      "text/plain": [
       "<Figure size 576x576 with 1 Axes>"
      ]
     },
     "metadata": {
      "needs_background": "light"
     },
     "output_type": "display_data"
    }
   ],
   "source": [
    "plt.figure(figsize=(8, 8))\n",
    "plt.scatter(C[:, 0].data, C[:, 1].data, s=200)\n",
    "for i in range(C.shape[0]):\n",
    "    plt.text(C[i,0].item(), C[i,1].item(), itos[i], ha=\"center\", va=\"center\", color=\"white\")\n",
    "\n",
    "plt.grid('minor')"
   ]
  },
  {
   "cell_type": "markdown",
   "metadata": {},
   "source": [
    "# 4. Inference"
   ]
  },
  {
   "cell_type": "code",
   "execution_count": 61,
   "metadata": {},
   "outputs": [
    {
     "name": "stdout",
     "output_type": "stream",
     "text": [
      "['noy.', 'harelilan.', 'adrian.', 'eyha.', 'mud.']\n"
     ]
    }
   ],
   "source": [
    "# Inference\n",
    "g = torch.Generator().manual_seed(2147483647 + 10)\n",
    "\n",
    "result = []\n",
    "for i in range(5):\n",
    "    charset = []\n",
    "    ix = 0\n",
    "    context = [ix] * NGRAM_SIZE # initialize with '...'\n",
    "\n",
    "    while True:\n",
    "        emb = C[torch.tensor([context])]\n",
    "        hidden = torch.tanh(emb.view(1, -1) @ W1 + b1)\n",
    "        logits = hidden @ W2 + b2\n",
    "        probs = F.softmax(logits, dim=1)\n",
    "\n",
    "        ix = torch.multinomial(input=probs, num_samples=1, replacement=True, generator=g).item()\n",
    "        charset.append(itos[ix])\n",
    "        context = context[1:] + [ix]\n",
    "        if ix == 0:\n",
    "            break\n",
    "\n",
    "    result.append(''.join(charset))\n",
    "    \n",
    "print(result)\n"
   ]
  }
 ],
 "metadata": {
  "kernelspec": {
   "display_name": "Python 3.9.11 ('base')",
   "language": "python",
   "name": "python3"
  },
  "language_info": {
   "codemirror_mode": {
    "name": "ipython",
    "version": 3
   },
   "file_extension": ".py",
   "mimetype": "text/x-python",
   "name": "python",
   "nbconvert_exporter": "python",
   "pygments_lexer": "ipython3",
   "version": "3.9.11"
  },
  "orig_nbformat": 4,
  "vscode": {
   "interpreter": {
    "hash": "f7dc663557200197b1ecb639904d6775340f1f12cbb992d7264be98ae917f5fb"
   }
  }
 },
 "nbformat": 4,
 "nbformat_minor": 2
}
