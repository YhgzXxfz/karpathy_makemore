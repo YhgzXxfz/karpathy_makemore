{
 "cells": [
  {
   "cell_type": "markdown",
   "metadata": {},
   "source": [
    "# I. Preparation"
   ]
  },
  {
   "cell_type": "code",
   "execution_count": 1,
   "metadata": {},
   "outputs": [],
   "source": [
    "with open(\"../names.txt\", \"r\") as fp:\n",
    "    words = fp.read().splitlines()"
   ]
  },
  {
   "cell_type": "code",
   "execution_count": 2,
   "metadata": {},
   "outputs": [
    {
     "data": {
      "text/plain": [
       "32033"
      ]
     },
     "execution_count": 2,
     "metadata": {},
     "output_type": "execute_result"
    }
   ],
   "source": [
    "len(words)"
   ]
  },
  {
   "cell_type": "code",
   "execution_count": 3,
   "metadata": {},
   "outputs": [],
   "source": [
    "alphabet = sorted(list(set(ch for w in words for ch in w)))\n",
    "stoi = {ch: i + 1 for i, ch in enumerate(alphabet)}\n",
    "stoi[\".\"] = 0\n",
    "itos = {i: ch for ch, i in stoi.items()}"
   ]
  },
  {
   "cell_type": "markdown",
   "metadata": {},
   "source": [
    "# II. A Step-to-Step Forward"
   ]
  },
  {
   "cell_type": "markdown",
   "metadata": {},
   "source": [
    "### 1. Dataset"
   ]
  },
  {
   "cell_type": "code",
   "execution_count": 4,
   "metadata": {},
   "outputs": [
    {
     "name": "stdout",
     "output_type": "stream",
     "text": [
      "emma\n",
      "... --> e\n",
      "..e --> m\n",
      ".em --> m\n",
      "emm --> a\n",
      "mma --> .\n",
      "olivia\n",
      "... --> o\n",
      "..o --> l\n",
      ".ol --> i\n",
      "oli --> v\n",
      "liv --> i\n",
      "ivi --> a\n",
      "via --> .\n",
      "ava\n",
      "... --> a\n",
      "..a --> v\n",
      ".av --> a\n",
      "ava --> .\n",
      "isabella\n",
      "... --> i\n",
      "..i --> s\n",
      ".is --> a\n",
      "isa --> b\n",
      "sab --> e\n",
      "abe --> l\n",
      "bel --> l\n",
      "ell --> a\n",
      "lla --> .\n",
      "sophia\n",
      "... --> s\n",
      "..s --> o\n",
      ".so --> p\n",
      "sop --> h\n",
      "oph --> i\n",
      "phi --> a\n",
      "hia --> .\n"
     ]
    }
   ],
   "source": [
    "import torch\n",
    "\n",
    "block_size = 3  # context window\n",
    "\n",
    "X, Y = [], []\n",
    "\n",
    "for w in words[:5]:\n",
    "    print(w)\n",
    "    seq = [\".\"] * block_size\n",
    "    for ch in w + \".\":\n",
    "        next_token = ch\n",
    "\n",
    "        X.append([stoi[c] for c in seq])\n",
    "        Y.append(stoi[next_token])\n",
    "\n",
    "        print(f\"{''.join(seq)} --> {next_token}\")\n",
    "        seq = seq[1:] + [ch]\n",
    "\n",
    "X = torch.tensor(X)\n",
    "Y = torch.tensor(Y)"
   ]
  },
  {
   "cell_type": "code",
   "execution_count": 5,
   "metadata": {},
   "outputs": [
    {
     "data": {
      "text/plain": [
       "(torch.Size([32, 3]), torch.Size([32]))"
      ]
     },
     "execution_count": 5,
     "metadata": {},
     "output_type": "execute_result"
    }
   ],
   "source": [
    "X.shape, Y.shape"
   ]
  },
  {
   "cell_type": "markdown",
   "metadata": {},
   "source": [
    "### 2. Embedding"
   ]
  },
  {
   "cell_type": "code",
   "execution_count": 56,
   "metadata": {},
   "outputs": [],
   "source": [
    "import torch\n",
    "\n",
    "g = torch.Generator().manual_seed(1337)\n",
    "C = torch.randn((27, 2), generator=g)"
   ]
  },
  {
   "cell_type": "code",
   "execution_count": 57,
   "metadata": {},
   "outputs": [
    {
     "data": {
      "text/plain": [
       "tensor([[ 0.1808, -0.0700],\n",
       "        [-0.3596, -0.9152],\n",
       "        [ 0.6258,  0.0255],\n",
       "        [ 0.9545,  0.0643],\n",
       "        [ 0.3612,  1.1679],\n",
       "        [-1.3499, -0.5102],\n",
       "        [ 0.2360, -0.2398],\n",
       "        [-0.9211,  1.5433],\n",
       "        [ 1.3488, -0.1396],\n",
       "        [ 0.2858,  0.9651],\n",
       "        [-2.0371,  0.4931],\n",
       "        [ 1.4870,  0.5910],\n",
       "        [ 0.1260, -1.5627],\n",
       "        [-1.1601, -0.3348],\n",
       "        [ 0.4478, -0.8016],\n",
       "        [ 1.5236,  2.5086],\n",
       "        [-0.6631, -0.2513],\n",
       "        [ 1.0101,  0.1215],\n",
       "        [ 0.1584,  1.1340],\n",
       "        [ 2.7630, -1.7465],\n",
       "        [ 0.4109, -0.2422],\n",
       "        [ 0.4208,  0.2776],\n",
       "        [-0.4440, -0.3797],\n",
       "        [ 1.6097, -0.4032],\n",
       "        [-0.2749,  1.4738],\n",
       "        [ 0.0688,  1.3327],\n",
       "        [-0.9523,  0.2588]])"
      ]
     },
     "execution_count": 57,
     "metadata": {},
     "output_type": "execute_result"
    }
   ],
   "source": [
    "C"
   ]
  },
  {
   "cell_type": "code",
   "execution_count": 58,
   "metadata": {},
   "outputs": [
    {
     "data": {
      "text/plain": [
       "tensor([ 0.1808, -0.0700])"
      ]
     },
     "execution_count": 58,
     "metadata": {},
     "output_type": "execute_result"
    }
   ],
   "source": [
    "# pick one row\n",
    "C[0]"
   ]
  },
  {
   "cell_type": "code",
   "execution_count": 59,
   "metadata": {},
   "outputs": [
    {
     "data": {
      "text/plain": [
       "tensor([[ 0.1808, -0.0700],\n",
       "        [-0.3596, -0.9152],\n",
       "        [ 0.6258,  0.0255]])"
      ]
     },
     "execution_count": 59,
     "metadata": {},
     "output_type": "execute_result"
    }
   ],
   "source": [
    "# pick 3 rows\n",
    "C[[0, 1, 2]]"
   ]
  },
  {
   "cell_type": "code",
   "execution_count": 60,
   "metadata": {},
   "outputs": [
    {
     "data": {
      "text/plain": [
       "tensor([0, 0, 0])"
      ]
     },
     "execution_count": 60,
     "metadata": {},
     "output_type": "execute_result"
    }
   ],
   "source": [
    "X[0]"
   ]
  },
  {
   "cell_type": "code",
   "execution_count": 61,
   "metadata": {},
   "outputs": [
    {
     "data": {
      "text/plain": [
       "tensor([[ 0.1808, -0.0700],\n",
       "        [ 0.1808, -0.0700],\n",
       "        [ 0.1808, -0.0700]])"
      ]
     },
     "execution_count": 61,
     "metadata": {},
     "output_type": "execute_result"
    }
   ],
   "source": [
    "# pick the first row, 3 times\n",
    "C[X[0]]"
   ]
  },
  {
   "cell_type": "code",
   "execution_count": 63,
   "metadata": {},
   "outputs": [],
   "source": [
    "# equivalent of using one hot encoding then matmul by C.\n",
    "# Direct indexing is faster than one hot encoding followed by matmul\n",
    "import torch.nn.functional as F\n",
    "\n",
    "assert torch.allclose(F.one_hot(X[0], num_classes=27).float() @ C, C[X[0]])"
   ]
  },
  {
   "cell_type": "code",
   "execution_count": 65,
   "metadata": {},
   "outputs": [],
   "source": [
    "emb = C[X]"
   ]
  },
  {
   "cell_type": "code",
   "execution_count": 66,
   "metadata": {},
   "outputs": [
    {
     "data": {
      "text/plain": [
       "torch.Size([32, 3, 2])"
      ]
     },
     "execution_count": 66,
     "metadata": {},
     "output_type": "execute_result"
    }
   ],
   "source": [
    "emb.shape"
   ]
  },
  {
   "cell_type": "markdown",
   "metadata": {},
   "source": [
    "Two way to understand the emb.\n",
    "\n",
    "1) We have X as size of (num_examples, block_size), say (32, 3), each element in a row representing an index in our alphabet / vocab. Now we replace each of those indexes with a tuple of 2 floating numbers, making it a 3d tensor (Stretching it in the 3rd dimension). How these tuples are found is by looking up in the table C and choose the corresponding rows using the indexes we have in X. Thus the indexes must be within range [0, row_of_C). This is actually what one-hot encoding followed by matmul is doing.\n",
    "\n",
    "2) We have C as size of (len(vocab), num_embeddings), say (27, 2). Now we index C with a number of arrays. One element in an array gives one row from C (element being used as row index in C). Thus an array of length 3 gives 3 rows from C. And 32 arrays gives 32 of 3 rows from C (each row of C has 2 floating numbers). This is what C[X] gives."
   ]
  },
  {
   "cell_type": "markdown",
   "metadata": {},
   "source": [
    "### 3. Forward"
   ]
  },
  {
   "cell_type": "markdown",
   "metadata": {},
   "source": [
    "#### 1st Layer"
   ]
  },
  {
   "cell_type": "code",
   "execution_count": 68,
   "metadata": {},
   "outputs": [],
   "source": [
    "W1 = torch.randn((6, 100), generator=g)\n",
    "b1 = torch.randn((100,), generator=g)"
   ]
  },
  {
   "cell_type": "code",
   "execution_count": 69,
   "metadata": {},
   "outputs": [
    {
     "ename": "RuntimeError",
     "evalue": "mat1 and mat2 shapes cannot be multiplied (96x2 and 6x100)",
     "output_type": "error",
     "traceback": [
      "\u001b[0;31m---------------------------------------------------------------------------\u001b[0m",
      "\u001b[0;31mRuntimeError\u001b[0m                              Traceback (most recent call last)",
      "Cell \u001b[0;32mIn[69], line 1\u001b[0m\n\u001b[0;32m----> 1\u001b[0m \u001b[43memb\u001b[49m\u001b[43m \u001b[49m\u001b[38;5;241;43m@\u001b[39;49m\u001b[43m \u001b[49m\u001b[43mW1\u001b[49m\n",
      "\u001b[0;31mRuntimeError\u001b[0m: mat1 and mat2 shapes cannot be multiplied (96x2 and 6x100)"
     ]
    }
   ],
   "source": [
    "emb @ W1"
   ]
  },
  {
   "cell_type": "markdown",
   "metadata": {},
   "source": [
    "> \"view\" is much faster than \"concatenation\" since the former doesn't involve memory allocation / movement."
   ]
  },
  {
   "cell_type": "code",
   "execution_count": 70,
   "metadata": {},
   "outputs": [
    {
     "data": {
      "text/plain": [
       "torch.Size([32, 6])"
      ]
     },
     "execution_count": 70,
     "metadata": {},
     "output_type": "execute_result"
    }
   ],
   "source": [
    "torch.cat(torch.unbind(emb, dim=1), dim=1).shape"
   ]
  },
  {
   "cell_type": "code",
   "execution_count": 71,
   "metadata": {},
   "outputs": [
    {
     "data": {
      "text/plain": [
       "torch.Size([32, 6])"
      ]
     },
     "execution_count": 71,
     "metadata": {},
     "output_type": "execute_result"
    }
   ],
   "source": [
    "emb.view((32, 6)).shape"
   ]
  },
  {
   "cell_type": "code",
   "execution_count": 72,
   "metadata": {},
   "outputs": [
    {
     "data": {
      "text/plain": [
       "torch.Size([32, 6])"
      ]
     },
     "execution_count": 72,
     "metadata": {},
     "output_type": "execute_result"
    }
   ],
   "source": [
    "emb.view((-1, 6)).shape"
   ]
  },
  {
   "cell_type": "code",
   "execution_count": 74,
   "metadata": {},
   "outputs": [],
   "source": [
    "assert torch.allclose(torch.cat(torch.unbind(emb, dim=1), dim=1), emb.view((-1, 6)))"
   ]
  },
  {
   "cell_type": "code",
   "execution_count": 76,
   "metadata": {},
   "outputs": [],
   "source": [
    "h = torch.tanh(emb.view((-1, 6)) @ W1 + b1)"
   ]
  },
  {
   "cell_type": "markdown",
   "metadata": {},
   "source": [
    "#### 2nd Layer"
   ]
  },
  {
   "cell_type": "code",
   "execution_count": 79,
   "metadata": {},
   "outputs": [],
   "source": [
    "W2 = torch.randn((100, 27), generator=g)\n",
    "b2 = torch.randn((27,), generator=g)"
   ]
  },
  {
   "cell_type": "code",
   "execution_count": 78,
   "metadata": {},
   "outputs": [
    {
     "data": {
      "text/plain": [
       "torch.Size([32, 100])"
      ]
     },
     "execution_count": 78,
     "metadata": {},
     "output_type": "execute_result"
    }
   ],
   "source": [
    "h.shape"
   ]
  },
  {
   "cell_type": "code",
   "execution_count": 80,
   "metadata": {},
   "outputs": [
    {
     "data": {
      "text/plain": [
       "torch.Size([32, 27])"
      ]
     },
     "execution_count": 80,
     "metadata": {},
     "output_type": "execute_result"
    }
   ],
   "source": [
    "logits = h @ W2 + b2\n",
    "logits.shape"
   ]
  },
  {
   "cell_type": "markdown",
   "metadata": {},
   "source": [
    "### 4. Loss"
   ]
  },
  {
   "cell_type": "code",
   "execution_count": 83,
   "metadata": {},
   "outputs": [
    {
     "data": {
      "text/plain": [
       "torch.Size([32, 27])"
      ]
     },
     "execution_count": 83,
     "metadata": {},
     "output_type": "execute_result"
    }
   ],
   "source": [
    "counts = logits.exp()\n",
    "probs = counts / counts.sum(1, keepdims=True)\n",
    "probs.shape"
   ]
  },
  {
   "cell_type": "code",
   "execution_count": 84,
   "metadata": {},
   "outputs": [
    {
     "data": {
      "text/plain": [
       "tensor([ 5, 13, 13,  1,  0, 15, 12,  9, 22,  9,  1,  0,  1, 22,  1,  0,  9, 19,\n",
       "         1,  2,  5, 12, 12,  1,  0, 19, 15, 16,  8,  9,  1,  0])"
      ]
     },
     "execution_count": 84,
     "metadata": {},
     "output_type": "execute_result"
    }
   ],
   "source": [
    "Y"
   ]
  },
  {
   "cell_type": "code",
   "execution_count": 87,
   "metadata": {},
   "outputs": [
    {
     "data": {
      "text/plain": [
       "tensor([ 0,  1,  2,  3,  4,  5,  6,  7,  8,  9, 10, 11, 12, 13, 14, 15, 16, 17,\n",
       "        18, 19, 20, 21, 22, 23, 24, 25, 26, 27, 28, 29, 30, 31])"
      ]
     },
     "execution_count": 87,
     "metadata": {},
     "output_type": "execute_result"
    }
   ],
   "source": [
    "torch.arange(32)"
   ]
  },
  {
   "cell_type": "code",
   "execution_count": 88,
   "metadata": {},
   "outputs": [
    {
     "data": {
      "text/plain": [
       "tensor([2.4039e-05, 6.9315e-09, 1.5309e-12, 9.6004e-02, 1.0590e-03, 3.7566e-05,\n",
       "        7.6202e-17, 1.1234e-08, 6.5054e-10, 2.2743e-06, 3.2300e-11, 6.5860e-07,\n",
       "        6.1857e-05, 1.2146e-05, 9.2159e-05, 3.0626e-08, 1.7781e-05, 9.6572e-11,\n",
       "        9.5115e-09, 3.1579e-10, 2.1045e-03, 1.3969e-05, 1.1030e-03, 1.4930e-03,\n",
       "        2.3033e-12, 5.8219e-06, 1.2322e-12, 4.6311e-12, 5.9948e-01, 1.6755e-11,\n",
       "        8.2791e-07, 9.8751e-18])"
      ]
     },
     "execution_count": 88,
     "metadata": {},
     "output_type": "execute_result"
    }
   ],
   "source": [
    "# Find corresponding outputs\n",
    "# We want these values to be as close to 1 as possible. (1 for the indexes specified by Y, and 0 for others)\n",
    "probs[torch.arange(32), Y]"
   ]
  },
  {
   "cell_type": "code",
   "execution_count": 95,
   "metadata": {},
   "outputs": [
    {
     "data": {
      "text/plain": [
       "tensor(16.4821)"
      ]
     },
     "execution_count": 95,
     "metadata": {},
     "output_type": "execute_result"
    }
   ],
   "source": [
    "# NLL\n",
    "loss = -probs[torch.arange(32), Y].log().mean()\n",
    "loss"
   ]
  },
  {
   "cell_type": "code",
   "execution_count": 93,
   "metadata": {},
   "outputs": [
    {
     "data": {
      "text/plain": [
       "tensor(16.4821)"
      ]
     },
     "execution_count": 93,
     "metadata": {},
     "output_type": "execute_result"
    }
   ],
   "source": [
    "# using cross entropy\n",
    "import torch.nn.functional as F\n",
    "\n",
    "# Cross Entropy == Softmax + NLL\n",
    "F.cross_entropy(logits, Y, reduction=\"mean\")"
   ]
  },
  {
   "cell_type": "code",
   "execution_count": null,
   "metadata": {},
   "outputs": [],
   "source": [
    "assert -probs[torch.arange(32), Y].log().mean() == F.cross_entropy(logits, Y, reduction=\"mean\")"
   ]
  },
  {
   "cell_type": "markdown",
   "metadata": {},
   "source": [
    "# III. Training Loop"
   ]
  },
  {
   "cell_type": "markdown",
   "metadata": {},
   "source": [
    "### 1. Overfitting a small dataset"
   ]
  },
  {
   "cell_type": "code",
   "execution_count": 96,
   "metadata": {},
   "outputs": [
    {
     "data": {
      "text/plain": [
       "(torch.Size([32, 3]), torch.Size([32]))"
      ]
     },
     "execution_count": 96,
     "metadata": {},
     "output_type": "execute_result"
    }
   ],
   "source": [
    "X.shape, Y.shape"
   ]
  },
  {
   "cell_type": "code",
   "execution_count": 98,
   "metadata": {},
   "outputs": [],
   "source": [
    "import torch\n",
    "\n",
    "g = torch.Generator().manual_seed(2147483647)\n",
    "C = torch.randn((27, 2), generator=g, requires_grad=True)\n",
    "W1 = torch.randn((6, 100), generator=g, requires_grad=True)\n",
    "b1 = torch.randn((100,), generator=g, requires_grad=True)\n",
    "W2 = torch.randn((100, 27), generator=g, requires_grad=True)\n",
    "b2 = torch.randn((27,), generator=g, requires_grad=True)\n",
    "parameters = [C, W1, b1, W2, b2]"
   ]
  },
  {
   "cell_type": "code",
   "execution_count": 101,
   "metadata": {},
   "outputs": [
    {
     "data": {
      "text/plain": [
       "3481"
      ]
     },
     "execution_count": 101,
     "metadata": {},
     "output_type": "execute_result"
    }
   ],
   "source": [
    "sum(p.nelement() for p in parameters)"
   ]
  },
  {
   "cell_type": "code",
   "execution_count": 110,
   "metadata": {},
   "outputs": [],
   "source": [
    "import torch\n",
    "import torch.nn.functional as F\n",
    "\n",
    "for _ in range(100):\n",
    "    # forward\n",
    "    emb = C[X]  # (32, 3 ,2)\n",
    "    h = torch.tanh(emb.view((-1, 6)) @ W1 + b1)  # (32, 100)\n",
    "    logits = h @ W2 + b2  # (32, 27)\n",
    "    loss = F.cross_entropy(logits, Y, reduction=\"mean\")\n",
    "\n",
    "    # zero grad\n",
    "    for p in parameters:\n",
    "        p.grad = None\n",
    "    loss.backward()\n",
    "\n",
    "    # update\n",
    "    learning_rate = 0.2\n",
    "    for p in parameters:\n",
    "        p.data += -learning_rate * p.grad"
   ]
  },
  {
   "cell_type": "code",
   "execution_count": 111,
   "metadata": {},
   "outputs": [
    {
     "name": "stdout",
     "output_type": "stream",
     "text": [
      "0.2890501022338867\n"
     ]
    }
   ],
   "source": [
    "print(loss.item())"
   ]
  },
  {
   "cell_type": "markdown",
   "metadata": {},
   "source": [
    "After training 100 times, the loss is relatively low.\n",
    "\n",
    "Comparing the indexes of max number in logits and the label Y, we see some values are equal, which is good. Others are not equal, basically because\n",
    "the starting window \"...\" can be followed by different characters (the 1st character in names).\n",
    "\n",
    "We are able to overfit our small dataset."
   ]
  },
  {
   "cell_type": "code",
   "execution_count": 112,
   "metadata": {},
   "outputs": [
    {
     "data": {
      "text/plain": [
       "torch.return_types.max(\n",
       "values=tensor([12.6529, 14.9630, 19.5675, 18.9386, 15.0829, 12.6529, 14.6667, 13.2099,\n",
       "        14.4161, 16.1723, 14.4680, 17.8463, 12.6529, 14.6796, 15.6007, 18.2783,\n",
       "        12.6529, 14.4396, 12.6102, 16.1019, 18.0916, 12.2037,  9.3557,  8.6684,\n",
       "        14.3760, 12.6529, 13.2450, 14.7947, 12.4688, 14.6582, 17.7984, 13.8765],\n",
       "       grad_fn=<MaxBackward0>),\n",
       "indices=tensor([ 1, 13, 13,  1,  0,  1, 12,  9, 22,  9,  1,  0,  1, 22,  1,  0,  1, 19,\n",
       "         1,  2,  5, 12, 12,  1,  0,  1, 15, 16,  8,  9,  1,  0]))"
      ]
     },
     "execution_count": 112,
     "metadata": {},
     "output_type": "execute_result"
    }
   ],
   "source": [
    "logits.max(dim=1)"
   ]
  },
  {
   "cell_type": "code",
   "execution_count": 113,
   "metadata": {},
   "outputs": [
    {
     "data": {
      "text/plain": [
       "tensor([ 5, 13, 13,  1,  0, 15, 12,  9, 22,  9,  1,  0,  1, 22,  1,  0,  9, 19,\n",
       "         1,  2,  5, 12, 12,  1,  0, 19, 15, 16,  8,  9,  1,  0])"
      ]
     },
     "execution_count": 113,
     "metadata": {},
     "output_type": "execute_result"
    }
   ],
   "source": [
    "Y"
   ]
  },
  {
   "cell_type": "markdown",
   "metadata": {},
   "source": [
    "### 2. Use Full Dataset"
   ]
  },
  {
   "cell_type": "code",
   "execution_count": 116,
   "metadata": {},
   "outputs": [],
   "source": [
    "import torch\n",
    "\n",
    "block_size = 3  # context window\n",
    "\n",
    "X, Y = [], []\n",
    "\n",
    "for w in words:\n",
    "    seq = [\".\"] * block_size\n",
    "    for ch in w + \".\":\n",
    "        next_token = ch\n",
    "\n",
    "        X.append([stoi[c] for c in seq])\n",
    "        Y.append(stoi[next_token])\n",
    "\n",
    "        seq = seq[1:] + [ch]\n",
    "\n",
    "X = torch.tensor(X)\n",
    "Y = torch.tensor(Y)"
   ]
  },
  {
   "cell_type": "code",
   "execution_count": 117,
   "metadata": {},
   "outputs": [
    {
     "data": {
      "text/plain": [
       "(torch.Size([228146, 3]), torch.Size([228146]))"
      ]
     },
     "execution_count": 117,
     "metadata": {},
     "output_type": "execute_result"
    }
   ],
   "source": [
    "X.shape, Y.shape"
   ]
  },
  {
   "cell_type": "code",
   "execution_count": 133,
   "metadata": {},
   "outputs": [
    {
     "data": {
      "text/plain": [
       "3481"
      ]
     },
     "execution_count": 133,
     "metadata": {},
     "output_type": "execute_result"
    }
   ],
   "source": [
    "import torch\n",
    "\n",
    "g = torch.Generator().manual_seed(2147483647)\n",
    "C = torch.randn((27, 2), generator=g, requires_grad=True)\n",
    "W1 = torch.randn((6, 100), generator=g, requires_grad=True)\n",
    "b1 = torch.randn((100,), generator=g, requires_grad=True)\n",
    "W2 = torch.randn((100, 27), generator=g, requires_grad=True)\n",
    "b2 = torch.randn((27,), generator=g, requires_grad=True)\n",
    "parameters = [C, W1, b1, W2, b2]\n",
    "\n",
    "sum(p.nelement() for p in parameters)"
   ]
  },
  {
   "cell_type": "code",
   "execution_count": 119,
   "metadata": {},
   "outputs": [
    {
     "name": "stdout",
     "output_type": "stream",
     "text": [
      "19.505229949951172\n",
      "15.998201370239258\n",
      "14.088128089904785\n",
      "12.687946319580078\n",
      "11.562962532043457\n",
      "10.761611938476562\n",
      "10.168497085571289\n",
      "9.645676612854004\n",
      "9.168879508972168\n",
      "8.732568740844727\n"
     ]
    }
   ],
   "source": [
    "import torch\n",
    "import torch.nn.functional as F\n",
    "\n",
    "for _ in range(10):\n",
    "    # forward\n",
    "    emb = C[X]  # (228146, 3 ,2)\n",
    "    h = torch.tanh(emb.view((-1, 6)) @ W1 + b1)  # (228146, 100)\n",
    "    logits = h @ W2 + b2  # (228146, 27)\n",
    "    loss = F.cross_entropy(logits, Y, reduction=\"mean\")\n",
    "    print(loss.item())\n",
    "\n",
    "    # zero grad\n",
    "    for p in parameters:\n",
    "        p.grad = None\n",
    "    loss.backward()\n",
    "\n",
    "    # update\n",
    "    learning_rate = 0.2\n",
    "    for p in parameters:\n",
    "        p.data += -learning_rate * p.grad"
   ]
  },
  {
   "cell_type": "markdown",
   "metadata": {},
   "source": [
    "# IV. Improvements"
   ]
  },
  {
   "cell_type": "markdown",
   "metadata": {},
   "source": [
    "### 1. Mini-batches"
   ]
  },
  {
   "cell_type": "markdown",
   "metadata": {},
   "source": [
    "To speed up the training"
   ]
  },
  {
   "cell_type": "code",
   "execution_count": 123,
   "metadata": {},
   "outputs": [
    {
     "name": "stdout",
     "output_type": "stream",
     "text": [
      "8.84489917755127\n",
      "7.695725440979004\n",
      "9.008890151977539\n",
      "6.752209663391113\n",
      "6.996969223022461\n",
      "7.82224702835083\n",
      "7.259411811828613\n",
      "7.175405979156494\n",
      "5.68449068069458\n",
      "9.103703498840332\n",
      "4.7281646728515625\n",
      "7.236924171447754\n",
      "5.889965534210205\n",
      "7.137609481811523\n",
      "5.250339984893799\n",
      "4.490716457366943\n",
      "5.403454780578613\n",
      "4.920587539672852\n",
      "5.861929416656494\n",
      "5.88117790222168\n",
      "4.368228912353516\n",
      "5.74033260345459\n",
      "5.000261306762695\n",
      "3.86448073387146\n",
      "4.922882080078125\n",
      "4.692350387573242\n",
      "5.426079273223877\n",
      "5.8588690757751465\n",
      "3.693840980529785\n",
      "4.488279819488525\n",
      "4.296844959259033\n",
      "4.220454216003418\n",
      "5.204118728637695\n",
      "4.927313327789307\n",
      "3.965378761291504\n",
      "3.399885416030884\n",
      "4.142465114593506\n",
      "3.706012010574341\n",
      "3.7555181980133057\n",
      "4.458453178405762\n",
      "3.547295331954956\n",
      "3.815459966659546\n",
      "4.450170040130615\n",
      "3.478888750076294\n",
      "3.012373208999634\n",
      "4.329896926879883\n",
      "4.214814186096191\n",
      "3.5062105655670166\n",
      "4.584789752960205\n",
      "3.793393850326538\n",
      "3.9101641178131104\n",
      "4.366077423095703\n",
      "4.275130271911621\n",
      "4.228752136230469\n",
      "3.9915404319763184\n",
      "2.8858883380889893\n",
      "3.689561367034912\n",
      "4.754981517791748\n",
      "3.93509840965271\n",
      "3.586646556854248\n",
      "4.029518127441406\n",
      "2.719728708267212\n",
      "4.277624607086182\n",
      "3.3640475273132324\n",
      "3.818352460861206\n",
      "3.210765838623047\n",
      "3.904989242553711\n",
      "2.9401187896728516\n",
      "3.390425205230713\n",
      "3.8989181518554688\n",
      "4.084466457366943\n",
      "2.886359453201294\n",
      "3.1552441120147705\n",
      "3.7604713439941406\n",
      "3.4809529781341553\n",
      "3.3835034370422363\n",
      "3.5237536430358887\n",
      "3.763472557067871\n",
      "3.584810972213745\n",
      "3.712728500366211\n",
      "3.2002615928649902\n",
      "3.653735637664795\n",
      "3.817183494567871\n",
      "3.593336820602417\n",
      "2.8820998668670654\n",
      "3.1102256774902344\n",
      "3.337458848953247\n",
      "3.3813462257385254\n",
      "3.4820334911346436\n",
      "2.9814751148223877\n",
      "3.433337926864624\n",
      "3.4463958740234375\n",
      "3.3525924682617188\n",
      "3.421675682067871\n",
      "3.1774351596832275\n",
      "3.397352457046509\n",
      "4.255964279174805\n",
      "3.02634596824646\n",
      "3.002222776412964\n",
      "3.04590106010437\n"
     ]
    }
   ],
   "source": [
    "import torch\n",
    "import torch.nn.functional as F\n",
    "\n",
    "mini_batch_size = 32\n",
    "\n",
    "for _ in range(100):\n",
    "    mini_batch_idxs = torch.randint(0, X.shape[0], (mini_batch_size,))\n",
    "\n",
    "    # forward\n",
    "    emb = C[X[mini_batch_idxs]]  # (32, 3 ,2)\n",
    "    h = torch.tanh(emb.view((-1, 6)) @ W1 + b1)  # (32, 100)\n",
    "    logits = h @ W2 + b2  # (32, 27)\n",
    "    loss = F.cross_entropy(logits, Y[mini_batch_idxs], reduction=\"mean\")\n",
    "    print(loss.item())\n",
    "\n",
    "    # zero grad\n",
    "    for p in parameters:\n",
    "        p.grad = None\n",
    "    loss.backward()\n",
    "\n",
    "    # update\n",
    "    learning_rate = 0.2\n",
    "    for p in parameters:\n",
    "        p.data += -learning_rate * p.grad"
   ]
  },
  {
   "cell_type": "markdown",
   "metadata": {},
   "source": [
    "### 2. Find a Good Learning Rate"
   ]
  },
  {
   "cell_type": "markdown",
   "metadata": {},
   "source": [
    "#### a. find lower and upper bounds"
   ]
  },
  {
   "cell_type": "markdown",
   "metadata": {},
   "source": [
    "> Remember to reset all params every time"
   ]
  },
  {
   "cell_type": "code",
   "execution_count": 125,
   "metadata": {},
   "outputs": [
    {
     "name": "stdout",
     "output_type": "stream",
     "text": [
      "21.0896053314209\n",
      "18.433286666870117\n",
      "20.6600284576416\n",
      "19.514856338500977\n",
      "20.975255966186523\n",
      "20.26926612854004\n",
      "16.18210792541504\n",
      "19.663976669311523\n",
      "19.41305160522461\n",
      "19.074960708618164\n",
      "22.90711784362793\n",
      "18.771242141723633\n",
      "21.474395751953125\n",
      "17.368650436401367\n",
      "19.715286254882812\n",
      "18.850183486938477\n",
      "23.291067123413086\n",
      "19.795001983642578\n",
      "18.018299102783203\n",
      "18.04878044128418\n",
      "17.870277404785156\n",
      "19.618030548095703\n",
      "17.93292236328125\n",
      "15.869194030761719\n",
      "24.829757690429688\n",
      "16.588769912719727\n",
      "19.067941665649414\n",
      "15.41004753112793\n",
      "18.853946685791016\n",
      "21.642263412475586\n",
      "19.272842407226562\n",
      "19.5616397857666\n",
      "18.387493133544922\n",
      "17.117799758911133\n",
      "14.418325424194336\n",
      "17.960102081298828\n",
      "19.925535202026367\n",
      "18.419700622558594\n",
      "18.808177947998047\n",
      "17.047611236572266\n",
      "13.893145561218262\n",
      "18.2453556060791\n",
      "17.363630294799805\n",
      "20.1563777923584\n",
      "14.582698822021484\n",
      "15.721273422241211\n",
      "18.15259552001953\n",
      "18.60744285583496\n",
      "17.836734771728516\n",
      "19.616975784301758\n",
      "18.15584945678711\n",
      "19.708534240722656\n",
      "15.566906929016113\n",
      "16.48666000366211\n",
      "22.715715408325195\n",
      "17.293954849243164\n",
      "19.115196228027344\n",
      "18.620492935180664\n",
      "18.42491340637207\n",
      "13.980937004089355\n",
      "15.224668502807617\n",
      "17.74107551574707\n",
      "19.32588768005371\n",
      "17.160919189453125\n",
      "20.266094207763672\n",
      "16.159303665161133\n",
      "16.52305030822754\n",
      "21.99470329284668\n",
      "19.00526237487793\n",
      "18.82875633239746\n",
      "14.504727363586426\n",
      "18.37251091003418\n",
      "16.654685974121094\n",
      "20.817733764648438\n",
      "19.136322021484375\n",
      "16.387453079223633\n",
      "19.232460021972656\n",
      "16.594409942626953\n",
      "19.77429962158203\n",
      "15.487452507019043\n",
      "21.39232635498047\n",
      "17.528989791870117\n",
      "18.45591926574707\n",
      "16.7277889251709\n",
      "18.17621612548828\n",
      "15.303420066833496\n",
      "18.04387855529785\n",
      "18.449670791625977\n",
      "14.890252113342285\n",
      "16.406564712524414\n",
      "17.000152587890625\n",
      "19.30353546142578\n",
      "18.186355590820312\n",
      "16.035676956176758\n",
      "15.951168060302734\n",
      "15.942999839782715\n",
      "18.311491012573242\n",
      "13.92672348022461\n",
      "17.360990524291992\n",
      "17.84557342529297\n"
     ]
    }
   ],
   "source": [
    "# try to find a lower bound of learning rate\n",
    "import torch\n",
    "import torch.nn.functional as F\n",
    "\n",
    "mini_batch_size = 32\n",
    "\n",
    "for _ in range(100):\n",
    "    mini_batch_idxs = torch.randint(0, X.shape[0], (mini_batch_size,))\n",
    "\n",
    "    # forward\n",
    "    emb = C[X[mini_batch_idxs]]  # (32, 3 ,2)\n",
    "    h = torch.tanh(emb.view((-1, 6)) @ W1 + b1)  # (32, 100)\n",
    "    logits = h @ W2 + b2  # (32, 27)\n",
    "    loss = F.cross_entropy(logits, Y[mini_batch_idxs], reduction=\"mean\")\n",
    "    print(loss.item())\n",
    "\n",
    "    # zero grad\n",
    "    for p in parameters:\n",
    "        p.grad = None\n",
    "    loss.backward()\n",
    "\n",
    "    # update\n",
    "    learning_rate = 0.001\n",
    "    for p in parameters:\n",
    "        p.data += -learning_rate * p.grad"
   ]
  },
  {
   "cell_type": "code",
   "execution_count": 127,
   "metadata": {},
   "outputs": [
    {
     "name": "stdout",
     "output_type": "stream",
     "text": [
      "20.751842498779297\n",
      "12.78869342803955\n",
      "12.110481262207031\n",
      "12.403935432434082\n",
      "13.512938499450684\n",
      "12.632973670959473\n",
      "12.124969482421875\n",
      "10.96733283996582\n",
      "8.796321868896484\n",
      "10.10569953918457\n",
      "8.670614242553711\n",
      "11.916468620300293\n",
      "9.748819351196289\n",
      "11.622769355773926\n",
      "9.601882934570312\n",
      "9.563347816467285\n",
      "7.015271186828613\n",
      "10.970406532287598\n",
      "8.862371444702148\n",
      "7.854324817657471\n",
      "7.666099548339844\n",
      "7.608391284942627\n",
      "8.905035972595215\n",
      "6.536152362823486\n",
      "7.062322616577148\n",
      "7.7388596534729\n",
      "9.4306058883667\n",
      "9.79012680053711\n",
      "8.213879585266113\n",
      "11.265913009643555\n",
      "11.048141479492188\n",
      "9.686266899108887\n",
      "10.819252967834473\n",
      "8.757780075073242\n",
      "8.912065505981445\n",
      "8.85029411315918\n",
      "6.5859808921813965\n",
      "8.883039474487305\n",
      "10.130281448364258\n",
      "9.720575332641602\n",
      "11.775057792663574\n",
      "8.584440231323242\n",
      "9.631266593933105\n",
      "11.079575538635254\n",
      "9.630969047546387\n",
      "10.52729606628418\n",
      "7.871476173400879\n",
      "6.749454975128174\n",
      "7.608766078948975\n",
      "6.955246925354004\n",
      "7.55897855758667\n",
      "9.166986465454102\n",
      "12.256085395812988\n",
      "9.22571849822998\n",
      "8.694846153259277\n",
      "7.2067670822143555\n",
      "7.206367015838623\n",
      "10.544514656066895\n",
      "7.753426551818848\n",
      "10.304844856262207\n",
      "7.56550407409668\n",
      "7.6331634521484375\n",
      "8.515746116638184\n",
      "10.006518363952637\n",
      "7.681955337524414\n",
      "6.40919828414917\n",
      "6.551178455352783\n",
      "7.413610935211182\n",
      "7.140035629272461\n",
      "7.500682830810547\n",
      "6.780479431152344\n",
      "8.697090148925781\n",
      "7.769289016723633\n",
      "10.107142448425293\n",
      "9.7920503616333\n",
      "11.972811698913574\n",
      "7.95475959777832\n",
      "11.268089294433594\n",
      "7.97097110748291\n",
      "8.135186195373535\n",
      "8.679330825805664\n",
      "6.299604892730713\n",
      "8.921724319458008\n",
      "7.886080265045166\n",
      "8.672624588012695\n",
      "7.491302490234375\n",
      "7.288344383239746\n",
      "8.746447563171387\n",
      "9.752778053283691\n",
      "4.81243896484375\n",
      "9.153958320617676\n",
      "8.759100914001465\n",
      "8.701550483703613\n",
      "7.627995491027832\n",
      "7.1630144119262695\n",
      "6.757694244384766\n",
      "5.411389350891113\n",
      "6.773824214935303\n",
      "8.644495964050293\n",
      "7.463956832885742\n"
     ]
    }
   ],
   "source": [
    "# try to find a upper bound for learning rate\n",
    "import torch\n",
    "import torch.nn.functional as F\n",
    "\n",
    "mini_batch_size = 32\n",
    "\n",
    "for _ in range(100):\n",
    "    mini_batch_idxs = torch.randint(0, X.shape[0], (mini_batch_size,))\n",
    "\n",
    "    # forward\n",
    "    emb = C[X[mini_batch_idxs]]  # (32, 3 ,2)\n",
    "    h = torch.tanh(emb.view((-1, 6)) @ W1 + b1)  # (32, 100)\n",
    "    logits = h @ W2 + b2  # (32, 27)\n",
    "    loss = F.cross_entropy(logits, Y[mini_batch_idxs], reduction=\"mean\")\n",
    "    print(loss.item())\n",
    "\n",
    "    # zero grad\n",
    "    for p in parameters:\n",
    "        p.grad = None\n",
    "    loss.backward()\n",
    "\n",
    "    # update\n",
    "    learning_rate = 1\n",
    "    for p in parameters:\n",
    "        p.data += -learning_rate * p.grad"
   ]
  },
  {
   "cell_type": "markdown",
   "metadata": {},
   "source": [
    "#### b. Grid search"
   ]
  },
  {
   "cell_type": "code",
   "execution_count": 129,
   "metadata": {},
   "outputs": [
    {
     "data": {
      "text/plain": [
       "tensor([0.0010, 0.0010, 0.0010, 0.0010, 0.0010, 0.0010, 0.0010, 0.0010, 0.0011,\n",
       "        0.0011, 0.0011, 0.0011, 0.0011, 0.0011, 0.0011, 0.0011, 0.0011, 0.0011,\n",
       "        0.0011, 0.0011, 0.0011, 0.0012, 0.0012, 0.0012, 0.0012, 0.0012, 0.0012,\n",
       "        0.0012, 0.0012, 0.0012, 0.0012, 0.0012, 0.0012, 0.0013, 0.0013, 0.0013,\n",
       "        0.0013, 0.0013, 0.0013, 0.0013, 0.0013, 0.0013, 0.0013, 0.0013, 0.0014,\n",
       "        0.0014, 0.0014, 0.0014, 0.0014, 0.0014, 0.0014, 0.0014, 0.0014, 0.0014,\n",
       "        0.0015, 0.0015, 0.0015, 0.0015, 0.0015, 0.0015, 0.0015, 0.0015, 0.0015,\n",
       "        0.0015, 0.0016, 0.0016, 0.0016, 0.0016, 0.0016, 0.0016, 0.0016, 0.0016,\n",
       "        0.0016, 0.0017, 0.0017, 0.0017, 0.0017, 0.0017, 0.0017, 0.0017, 0.0017,\n",
       "        0.0018, 0.0018, 0.0018, 0.0018, 0.0018, 0.0018, 0.0018, 0.0018, 0.0019,\n",
       "        0.0019, 0.0019, 0.0019, 0.0019, 0.0019, 0.0019, 0.0019, 0.0020, 0.0020,\n",
       "        0.0020, 0.0020, 0.0020, 0.0020, 0.0020, 0.0021, 0.0021, 0.0021, 0.0021,\n",
       "        0.0021, 0.0021, 0.0021, 0.0022, 0.0022, 0.0022, 0.0022, 0.0022, 0.0022,\n",
       "        0.0022, 0.0023, 0.0023, 0.0023, 0.0023, 0.0023, 0.0023, 0.0024, 0.0024,\n",
       "        0.0024, 0.0024, 0.0024, 0.0024, 0.0025, 0.0025, 0.0025, 0.0025, 0.0025,\n",
       "        0.0025, 0.0026, 0.0026, 0.0026, 0.0026, 0.0026, 0.0027, 0.0027, 0.0027,\n",
       "        0.0027, 0.0027, 0.0027, 0.0028, 0.0028, 0.0028, 0.0028, 0.0028, 0.0029,\n",
       "        0.0029, 0.0029, 0.0029, 0.0029, 0.0030, 0.0030, 0.0030, 0.0030, 0.0030,\n",
       "        0.0031, 0.0031, 0.0031, 0.0031, 0.0032, 0.0032, 0.0032, 0.0032, 0.0032,\n",
       "        0.0033, 0.0033, 0.0033, 0.0033, 0.0034, 0.0034, 0.0034, 0.0034, 0.0034,\n",
       "        0.0035, 0.0035, 0.0035, 0.0035, 0.0036, 0.0036, 0.0036, 0.0036, 0.0037,\n",
       "        0.0037, 0.0037, 0.0037, 0.0038, 0.0038, 0.0038, 0.0039, 0.0039, 0.0039,\n",
       "        0.0039, 0.0040, 0.0040, 0.0040, 0.0040, 0.0041, 0.0041, 0.0041, 0.0042,\n",
       "        0.0042, 0.0042, 0.0042, 0.0043, 0.0043, 0.0043, 0.0044, 0.0044, 0.0044,\n",
       "        0.0045, 0.0045, 0.0045, 0.0045, 0.0046, 0.0046, 0.0046, 0.0047, 0.0047,\n",
       "        0.0047, 0.0048, 0.0048, 0.0048, 0.0049, 0.0049, 0.0049, 0.0050, 0.0050,\n",
       "        0.0050, 0.0051, 0.0051, 0.0051, 0.0052, 0.0052, 0.0053, 0.0053, 0.0053,\n",
       "        0.0054, 0.0054, 0.0054, 0.0055, 0.0055, 0.0056, 0.0056, 0.0056, 0.0057,\n",
       "        0.0057, 0.0058, 0.0058, 0.0058, 0.0059, 0.0059, 0.0060, 0.0060, 0.0060,\n",
       "        0.0061, 0.0061, 0.0062, 0.0062, 0.0062, 0.0063, 0.0063, 0.0064, 0.0064,\n",
       "        0.0065, 0.0065, 0.0066, 0.0066, 0.0067, 0.0067, 0.0067, 0.0068, 0.0068,\n",
       "        0.0069, 0.0069, 0.0070, 0.0070, 0.0071, 0.0071, 0.0072, 0.0072, 0.0073,\n",
       "        0.0073, 0.0074, 0.0074, 0.0075, 0.0075, 0.0076, 0.0076, 0.0077, 0.0077,\n",
       "        0.0078, 0.0079, 0.0079, 0.0080, 0.0080, 0.0081, 0.0081, 0.0082, 0.0082,\n",
       "        0.0083, 0.0084, 0.0084, 0.0085, 0.0085, 0.0086, 0.0086, 0.0087, 0.0088,\n",
       "        0.0088, 0.0089, 0.0090, 0.0090, 0.0091, 0.0091, 0.0092, 0.0093, 0.0093,\n",
       "        0.0094, 0.0095, 0.0095, 0.0096, 0.0097, 0.0097, 0.0098, 0.0099, 0.0099,\n",
       "        0.0100, 0.0101, 0.0101, 0.0102, 0.0103, 0.0104, 0.0104, 0.0105, 0.0106,\n",
       "        0.0106, 0.0107, 0.0108, 0.0109, 0.0109, 0.0110, 0.0111, 0.0112, 0.0112,\n",
       "        0.0113, 0.0114, 0.0115, 0.0116, 0.0116, 0.0117, 0.0118, 0.0119, 0.0120,\n",
       "        0.0121, 0.0121, 0.0122, 0.0123, 0.0124, 0.0125, 0.0126, 0.0127, 0.0127,\n",
       "        0.0128, 0.0129, 0.0130, 0.0131, 0.0132, 0.0133, 0.0134, 0.0135, 0.0136,\n",
       "        0.0137, 0.0137, 0.0138, 0.0139, 0.0140, 0.0141, 0.0142, 0.0143, 0.0144,\n",
       "        0.0145, 0.0146, 0.0147, 0.0148, 0.0149, 0.0150, 0.0151, 0.0152, 0.0154,\n",
       "        0.0155, 0.0156, 0.0157, 0.0158, 0.0159, 0.0160, 0.0161, 0.0162, 0.0163,\n",
       "        0.0165, 0.0166, 0.0167, 0.0168, 0.0169, 0.0170, 0.0171, 0.0173, 0.0174,\n",
       "        0.0175, 0.0176, 0.0178, 0.0179, 0.0180, 0.0181, 0.0182, 0.0184, 0.0185,\n",
       "        0.0186, 0.0188, 0.0189, 0.0190, 0.0192, 0.0193, 0.0194, 0.0196, 0.0197,\n",
       "        0.0198, 0.0200, 0.0201, 0.0202, 0.0204, 0.0205, 0.0207, 0.0208, 0.0210,\n",
       "        0.0211, 0.0212, 0.0214, 0.0215, 0.0217, 0.0218, 0.0220, 0.0221, 0.0223,\n",
       "        0.0225, 0.0226, 0.0228, 0.0229, 0.0231, 0.0232, 0.0234, 0.0236, 0.0237,\n",
       "        0.0239, 0.0241, 0.0242, 0.0244, 0.0246, 0.0247, 0.0249, 0.0251, 0.0253,\n",
       "        0.0254, 0.0256, 0.0258, 0.0260, 0.0261, 0.0263, 0.0265, 0.0267, 0.0269,\n",
       "        0.0271, 0.0273, 0.0274, 0.0276, 0.0278, 0.0280, 0.0282, 0.0284, 0.0286,\n",
       "        0.0288, 0.0290, 0.0292, 0.0294, 0.0296, 0.0298, 0.0300, 0.0302, 0.0304,\n",
       "        0.0307, 0.0309, 0.0311, 0.0313, 0.0315, 0.0317, 0.0320, 0.0322, 0.0324,\n",
       "        0.0326, 0.0328, 0.0331, 0.0333, 0.0335, 0.0338, 0.0340, 0.0342, 0.0345,\n",
       "        0.0347, 0.0350, 0.0352, 0.0354, 0.0357, 0.0359, 0.0362, 0.0364, 0.0367,\n",
       "        0.0369, 0.0372, 0.0375, 0.0377, 0.0380, 0.0382, 0.0385, 0.0388, 0.0390,\n",
       "        0.0393, 0.0396, 0.0399, 0.0401, 0.0404, 0.0407, 0.0410, 0.0413, 0.0416,\n",
       "        0.0418, 0.0421, 0.0424, 0.0427, 0.0430, 0.0433, 0.0436, 0.0439, 0.0442,\n",
       "        0.0445, 0.0448, 0.0451, 0.0455, 0.0458, 0.0461, 0.0464, 0.0467, 0.0471,\n",
       "        0.0474, 0.0477, 0.0480, 0.0484, 0.0487, 0.0491, 0.0494, 0.0497, 0.0501,\n",
       "        0.0504, 0.0508, 0.0511, 0.0515, 0.0518, 0.0522, 0.0526, 0.0529, 0.0533,\n",
       "        0.0537, 0.0540, 0.0544, 0.0548, 0.0552, 0.0556, 0.0559, 0.0563, 0.0567,\n",
       "        0.0571, 0.0575, 0.0579, 0.0583, 0.0587, 0.0591, 0.0595, 0.0599, 0.0604,\n",
       "        0.0608, 0.0612, 0.0616, 0.0621, 0.0625, 0.0629, 0.0634, 0.0638, 0.0642,\n",
       "        0.0647, 0.0651, 0.0656, 0.0660, 0.0665, 0.0670, 0.0674, 0.0679, 0.0684,\n",
       "        0.0688, 0.0693, 0.0698, 0.0703, 0.0708, 0.0713, 0.0718, 0.0723, 0.0728,\n",
       "        0.0733, 0.0738, 0.0743, 0.0748, 0.0753, 0.0758, 0.0764, 0.0769, 0.0774,\n",
       "        0.0780, 0.0785, 0.0790, 0.0796, 0.0802, 0.0807, 0.0813, 0.0818, 0.0824,\n",
       "        0.0830, 0.0835, 0.0841, 0.0847, 0.0853, 0.0859, 0.0865, 0.0871, 0.0877,\n",
       "        0.0883, 0.0889, 0.0895, 0.0901, 0.0908, 0.0914, 0.0920, 0.0927, 0.0933,\n",
       "        0.0940, 0.0946, 0.0953, 0.0959, 0.0966, 0.0973, 0.0979, 0.0986, 0.0993,\n",
       "        0.1000, 0.1007, 0.1014, 0.1021, 0.1028, 0.1035, 0.1042, 0.1050, 0.1057,\n",
       "        0.1064, 0.1072, 0.1079, 0.1087, 0.1094, 0.1102, 0.1109, 0.1117, 0.1125,\n",
       "        0.1133, 0.1140, 0.1148, 0.1156, 0.1164, 0.1172, 0.1181, 0.1189, 0.1197,\n",
       "        0.1205, 0.1214, 0.1222, 0.1231, 0.1239, 0.1248, 0.1256, 0.1265, 0.1274,\n",
       "        0.1283, 0.1292, 0.1301, 0.1310, 0.1319, 0.1328, 0.1337, 0.1346, 0.1356,\n",
       "        0.1365, 0.1374, 0.1384, 0.1394, 0.1403, 0.1413, 0.1423, 0.1433, 0.1443,\n",
       "        0.1453, 0.1463, 0.1473, 0.1483, 0.1493, 0.1504, 0.1514, 0.1525, 0.1535,\n",
       "        0.1546, 0.1557, 0.1567, 0.1578, 0.1589, 0.1600, 0.1611, 0.1623, 0.1634,\n",
       "        0.1645, 0.1657, 0.1668, 0.1680, 0.1691, 0.1703, 0.1715, 0.1727, 0.1739,\n",
       "        0.1751, 0.1763, 0.1775, 0.1788, 0.1800, 0.1812, 0.1825, 0.1838, 0.1850,\n",
       "        0.1863, 0.1876, 0.1889, 0.1902, 0.1916, 0.1929, 0.1942, 0.1956, 0.1969,\n",
       "        0.1983, 0.1997, 0.2010, 0.2024, 0.2038, 0.2053, 0.2067, 0.2081, 0.2096,\n",
       "        0.2110, 0.2125, 0.2140, 0.2154, 0.2169, 0.2184, 0.2200, 0.2215, 0.2230,\n",
       "        0.2246, 0.2261, 0.2277, 0.2293, 0.2309, 0.2325, 0.2341, 0.2357, 0.2373,\n",
       "        0.2390, 0.2406, 0.2423, 0.2440, 0.2457, 0.2474, 0.2491, 0.2508, 0.2526,\n",
       "        0.2543, 0.2561, 0.2579, 0.2597, 0.2615, 0.2633, 0.2651, 0.2669, 0.2688,\n",
       "        0.2707, 0.2725, 0.2744, 0.2763, 0.2783, 0.2802, 0.2821, 0.2841, 0.2861,\n",
       "        0.2880, 0.2900, 0.2921, 0.2941, 0.2961, 0.2982, 0.3002, 0.3023, 0.3044,\n",
       "        0.3065, 0.3087, 0.3108, 0.3130, 0.3151, 0.3173, 0.3195, 0.3217, 0.3240,\n",
       "        0.3262, 0.3285, 0.3308, 0.3331, 0.3354, 0.3377, 0.3400, 0.3424, 0.3448,\n",
       "        0.3472, 0.3496, 0.3520, 0.3544, 0.3569, 0.3594, 0.3619, 0.3644, 0.3669,\n",
       "        0.3695, 0.3720, 0.3746, 0.3772, 0.3798, 0.3825, 0.3851, 0.3878, 0.3905,\n",
       "        0.3932, 0.3959, 0.3987, 0.4014, 0.4042, 0.4070, 0.4098, 0.4127, 0.4155,\n",
       "        0.4184, 0.4213, 0.4243, 0.4272, 0.4302, 0.4331, 0.4362, 0.4392, 0.4422,\n",
       "        0.4453, 0.4484, 0.4515, 0.4546, 0.4578, 0.4610, 0.4642, 0.4674, 0.4706,\n",
       "        0.4739, 0.4772, 0.4805, 0.4838, 0.4872, 0.4906, 0.4940, 0.4974, 0.5008,\n",
       "        0.5043, 0.5078, 0.5113, 0.5149, 0.5185, 0.5221, 0.5257, 0.5293, 0.5330,\n",
       "        0.5367, 0.5404, 0.5442, 0.5479, 0.5517, 0.5556, 0.5594, 0.5633, 0.5672,\n",
       "        0.5712, 0.5751, 0.5791, 0.5831, 0.5872, 0.5913, 0.5954, 0.5995, 0.6036,\n",
       "        0.6078, 0.6120, 0.6163, 0.6206, 0.6249, 0.6292, 0.6336, 0.6380, 0.6424,\n",
       "        0.6469, 0.6513, 0.6559, 0.6604, 0.6650, 0.6696, 0.6743, 0.6789, 0.6837,\n",
       "        0.6884, 0.6932, 0.6980, 0.7028, 0.7077, 0.7126, 0.7176, 0.7225, 0.7275,\n",
       "        0.7326, 0.7377, 0.7428, 0.7480, 0.7531, 0.7584, 0.7636, 0.7689, 0.7743,\n",
       "        0.7796, 0.7850, 0.7905, 0.7960, 0.8015, 0.8071, 0.8127, 0.8183, 0.8240,\n",
       "        0.8297, 0.8355, 0.8412, 0.8471, 0.8530, 0.8589, 0.8648, 0.8708, 0.8769,\n",
       "        0.8830, 0.8891, 0.8953, 0.9015, 0.9077, 0.9140, 0.9204, 0.9268, 0.9332,\n",
       "        0.9397, 0.9462, 0.9528, 0.9594, 0.9660, 0.9727, 0.9795, 0.9863, 0.9931,\n",
       "        1.0000])"
      ]
     },
     "execution_count": 129,
     "metadata": {},
     "output_type": "execute_result"
    }
   ],
   "source": [
    "lr_exp = torch.linspace(-3, 0, 1000)\n",
    "lrs = 10**lr_exp\n",
    "lrs"
   ]
  },
  {
   "cell_type": "markdown",
   "metadata": {},
   "source": [
    "#### c. Track loss to learning rate"
   ]
  },
  {
   "cell_type": "code",
   "execution_count": 134,
   "metadata": {},
   "outputs": [],
   "source": [
    "# Track loss to learning rate\n",
    "import torch\n",
    "import torch.nn.functional as F\n",
    "\n",
    "mini_batch_size = 32\n",
    "\n",
    "lr_list = []\n",
    "loss_list = []\n",
    "\n",
    "for epoch in range(1000):\n",
    "    mini_batch_idxs = torch.randint(0, X.shape[0], (mini_batch_size,))\n",
    "\n",
    "    # forward\n",
    "    emb = C[X[mini_batch_idxs]]  # (32, 3 ,2)\n",
    "    h = torch.tanh(emb.view((-1, 6)) @ W1 + b1)  # (32, 100)\n",
    "    logits = h @ W2 + b2  # (32, 27)\n",
    "    loss = F.cross_entropy(logits, Y[mini_batch_idxs], reduction=\"mean\")\n",
    "\n",
    "    # zero grad\n",
    "    for p in parameters:\n",
    "        p.grad = None\n",
    "    loss.backward()\n",
    "\n",
    "    # update\n",
    "    learning_rate = lrs[epoch]\n",
    "    for p in parameters:\n",
    "        p.data += -learning_rate * p.grad\n",
    "\n",
    "    # track stats\n",
    "    loss_list.append(loss.item())\n",
    "    lr_list.append(learning_rate)"
   ]
  },
  {
   "cell_type": "code",
   "execution_count": 135,
   "metadata": {},
   "outputs": [
    {
     "data": {
      "text/plain": [
       "[<matplotlib.lines.Line2D at 0x165dbf1c0>]"
      ]
     },
     "execution_count": 135,
     "metadata": {},
     "output_type": "execute_result"
    },
    {
     "data": {
      "image/png": "[encoded data removed]",
      "text/plain": [
       "<Figure size 640x480 with 1 Axes>"
      ]
     },
     "metadata": {},
     "output_type": "display_data"
    }
   ],
   "source": [
    "# We can see the best learning rate is somewhere between 0.0 and 0.2\n",
    "\n",
    "import matplotlib.pyplot as plt\n",
    "%matplotlib inline\n",
    "\n",
    "plt.plot(lr_list, loss_list)"
   ]
  },
  {
   "cell_type": "markdown",
   "metadata": {},
   "source": [
    "#### d. Track loss to exp of learning rate"
   ]
  },
  {
   "cell_type": "code",
   "execution_count": 136,
   "metadata": {},
   "outputs": [],
   "source": [
    "# Track loss to expoential of learning rate\n",
    "import torch\n",
    "import torch.nn.functional as F\n",
    "\n",
    "mini_batch_size = 32\n",
    "\n",
    "lr_list = []\n",
    "loss_list = []\n",
    "\n",
    "for epoch in range(1000):\n",
    "    mini_batch_idxs = torch.randint(0, X.shape[0], (mini_batch_size,))\n",
    "\n",
    "    # forward\n",
    "    emb = C[X[mini_batch_idxs]]  # (32, 3 ,2)\n",
    "    h = torch.tanh(emb.view((-1, 6)) @ W1 + b1)  # (32, 100)\n",
    "    logits = h @ W2 + b2  # (32, 27)\n",
    "    loss = F.cross_entropy(logits, Y[mini_batch_idxs], reduction=\"mean\")\n",
    "\n",
    "    # zero grad\n",
    "    for p in parameters:\n",
    "        p.grad = None\n",
    "    loss.backward()\n",
    "\n",
    "    # update\n",
    "    learning_rate = lrs[epoch]\n",
    "    for p in parameters:\n",
    "        p.data += -learning_rate * p.grad\n",
    "\n",
    "    # track stats\n",
    "    loss_list.append(loss.item())\n",
    "    lr_list.append(torch.log10(learning_rate).item())"
   ]
  },
  {
   "cell_type": "code",
   "execution_count": 137,
   "metadata": {},
   "outputs": [
    {
     "data": {
      "text/plain": [
       "[<matplotlib.lines.Line2D at 0x165ba4070>]"
      ]
     },
     "execution_count": 137,
     "metadata": {},
     "output_type": "execute_result"
    },
    {
     "data": {
      "image/png": "[encoded data removed]",
      "text/plain": [
       "<Figure size 640x480 with 1 Axes>"
      ]
     },
     "metadata": {},
     "output_type": "display_data"
    }
   ],
   "source": [
    "# We can see the exponential of the best learning rate is somewhere -1.0\n",
    "# Thus gives us the best learning rate as 10 ** -1.0 == 0.1\n",
    "\n",
    "import matplotlib.pyplot as plt\n",
    "%matplotlib inline\n",
    "\n",
    "plt.plot(lr_list, loss_list)"
   ]
  },
  {
   "cell_type": "markdown",
   "metadata": {},
   "source": [
    "### 3. Split the Dataset"
   ]
  },
  {
   "cell_type": "markdown",
   "metadata": {},
   "source": [
    "We should only evaluate it on the validation dataset"
   ]
  },
  {
   "cell_type": "code",
   "execution_count": 140,
   "metadata": {},
   "outputs": [],
   "source": [
    "import torch\n",
    "import typing as tp\n",
    "\n",
    "block_size = 3  # context window\n",
    "\n",
    "\n",
    "def build_dataset(corpse: tp.List[str]):\n",
    "    X, Y = [], []\n",
    "\n",
    "    for w in corpse:\n",
    "        seq = [\".\"] * block_size\n",
    "        for ch in w + \".\":\n",
    "            next_token = ch\n",
    "\n",
    "            X.append([stoi[c] for c in seq])\n",
    "            Y.append(stoi[next_token])\n",
    "\n",
    "            seq = seq[1:] + [ch]\n",
    "\n",
    "    X = torch.tensor(X)\n",
    "    Y = torch.tensor(Y)\n",
    "    return X, Y\n",
    "\n",
    "\n",
    "import random\n",
    "\n",
    "random.seed(42)\n",
    "random.shuffle(words)\n",
    "n1 = int(0.8 * len(words))\n",
    "n2 = int(0.9 * len(words))\n",
    "\n",
    "Xtr, Ytr = build_dataset(words[:n1])\n",
    "Xval, Yval = build_dataset(words[n1:n2])\n",
    "Xtest, Ytest = build_dataset(words[n2:])"
   ]
  },
  {
   "cell_type": "code",
   "execution_count": 141,
   "metadata": {},
   "outputs": [
    {
     "data": {
      "text/plain": [
       "(torch.Size([182580, 3]), torch.Size([182580]))"
      ]
     },
     "execution_count": 141,
     "metadata": {},
     "output_type": "execute_result"
    }
   ],
   "source": [
    "Xtr.shape, Ytr.shape"
   ]
  },
  {
   "cell_type": "code",
   "execution_count": 142,
   "metadata": {},
   "outputs": [
    {
     "data": {
      "text/plain": [
       "(torch.Size([22767, 3]), torch.Size([22767]))"
      ]
     },
     "execution_count": 142,
     "metadata": {},
     "output_type": "execute_result"
    }
   ],
   "source": [
    "Xval.shape, Yval.shape"
   ]
  },
  {
   "cell_type": "code",
   "execution_count": 143,
   "metadata": {},
   "outputs": [
    {
     "data": {
      "text/plain": [
       "(torch.Size([22799, 3]), torch.Size([22799]))"
      ]
     },
     "execution_count": 143,
     "metadata": {},
     "output_type": "execute_result"
    }
   ],
   "source": [
    "Xtest.shape, Ytest.shape"
   ]
  },
  {
   "cell_type": "code",
   "execution_count": 144,
   "metadata": {},
   "outputs": [
    {
     "name": "stdout",
     "output_type": "stream",
     "text": [
      "Numberr of parameters: 3481\n"
     ]
    }
   ],
   "source": [
    "import torch\n",
    "\n",
    "g = torch.Generator().manual_seed(2147483647)\n",
    "C = torch.randn((27, 2), generator=g, requires_grad=True)\n",
    "W1 = torch.randn((6, 100), generator=g, requires_grad=True)\n",
    "b1 = torch.randn((100,), generator=g, requires_grad=True)\n",
    "W2 = torch.randn((100, 27), generator=g, requires_grad=True)\n",
    "b2 = torch.randn((27,), generator=g, requires_grad=True)\n",
    "parameters = [C, W1, b1, W2, b2]\n",
    "\n",
    "print(f\"Numberr of parameters: {sum(p.nelement() for p in parameters)}\")"
   ]
  },
  {
   "cell_type": "code",
   "execution_count": 146,
   "metadata": {},
   "outputs": [],
   "source": [
    "import torch\n",
    "import torch.nn.functional as F\n",
    "\n",
    "mini_batch_size = 32\n",
    "\n",
    "for _ in range(30000):\n",
    "    mini_batch_idxs = torch.randint(0, Xtr.shape[0], (mini_batch_size,))\n",
    "\n",
    "    # forward\n",
    "    emb = C[Xtr[mini_batch_idxs]]  # (32, 3 ,2)\n",
    "    h = torch.tanh(emb.view((-1, 6)) @ W1 + b1)  # (32, 100)\n",
    "    logits = h @ W2 + b2  # (32, 27)\n",
    "    loss = F.cross_entropy(logits, Ytr[mini_batch_idxs], reduction=\"mean\")\n",
    "\n",
    "    # zero grad\n",
    "    for p in parameters:\n",
    "        p.grad = None\n",
    "    loss.backward()\n",
    "\n",
    "    # update\n",
    "    learning_rate = 0.1\n",
    "    for p in parameters:\n",
    "        p.data += -learning_rate * p.grad"
   ]
  },
  {
   "cell_type": "code",
   "execution_count": 148,
   "metadata": {},
   "outputs": [
    {
     "name": "stdout",
     "output_type": "stream",
     "text": [
      "tensor(2.4044, grad_fn=<NllLossBackward0>)\n",
      "tensor(2.4060, grad_fn=<NllLossBackward0>)\n"
     ]
    }
   ],
   "source": [
    "# loss on training set and validation set are almost equal\n",
    "# meaning that our model is underfitting.\n",
    "import torch\n",
    "import torch.nn.functional as F\n",
    "\n",
    "\n",
    "def forward(input):\n",
    "    emb = C[input]\n",
    "    h = torch.tanh(emb.view((-1, 6)) @ W1 + b1)\n",
    "    logits = h @ W2 + b2\n",
    "    return logits\n",
    "\n",
    "\n",
    "print(F.cross_entropy(forward(Xtr), Ytr))\n",
    "print(F.cross_entropy(forward(Xval), Yval))"
   ]
  },
  {
   "cell_type": "markdown",
   "metadata": {},
   "source": [
    "# V. Scale Up"
   ]
  },
  {
   "cell_type": "markdown",
   "metadata": {},
   "source": [
    "### 1. Increase Hidden Layer size"
   ]
  },
  {
   "cell_type": "markdown",
   "metadata": {},
   "source": [
    "100 -> 300"
   ]
  },
  {
   "cell_type": "code",
   "execution_count": 149,
   "metadata": {},
   "outputs": [
    {
     "name": "stdout",
     "output_type": "stream",
     "text": [
      "Numberr of parameters: 10281\n"
     ]
    }
   ],
   "source": [
    "import torch\n",
    "\n",
    "g = torch.Generator().manual_seed(2147483647)\n",
    "C = torch.randn((27, 2), generator=g, requires_grad=True)\n",
    "W1 = torch.randn((6, 300), generator=g, requires_grad=True)\n",
    "b1 = torch.randn((300,), generator=g, requires_grad=True)\n",
    "W2 = torch.randn((300, 27), generator=g, requires_grad=True)\n",
    "b2 = torch.randn((27,), generator=g, requires_grad=True)\n",
    "parameters = [C, W1, b1, W2, b2]\n",
    "\n",
    "print(f\"Numberr of parameters: {sum(p.nelement() for p in parameters)}\")"
   ]
  },
  {
   "cell_type": "code",
   "execution_count": 156,
   "metadata": {},
   "outputs": [],
   "source": [
    "import torch\n",
    "import torch.nn.functional as F\n",
    "\n",
    "mini_batch_size = 32\n",
    "\n",
    "for _ in range(30000):\n",
    "    mini_batch_idxs = torch.randint(0, Xtr.shape[0], (mini_batch_size,))\n",
    "\n",
    "    # forward\n",
    "    emb = C[Xtr[mini_batch_idxs]]  # (32, 3 ,2)\n",
    "    h = torch.tanh(emb.view((-1, 6)) @ W1 + b1)  # (32, 300)\n",
    "    logits = h @ W2 + b2  # (32, 27)\n",
    "    loss = F.cross_entropy(logits, Ytr[mini_batch_idxs], reduction=\"mean\")\n",
    "\n",
    "    # zero grad\n",
    "    for p in parameters:\n",
    "        p.grad = None\n",
    "    loss.backward()\n",
    "\n",
    "    # update\n",
    "    learning_rate = 0.01\n",
    "    for p in parameters:\n",
    "        p.data += -learning_rate * p.grad"
   ]
  },
  {
   "cell_type": "code",
   "execution_count": 157,
   "metadata": {},
   "outputs": [
    {
     "name": "stdout",
     "output_type": "stream",
     "text": [
      "tensor(2.2736, grad_fn=<NllLossBackward0>)\n",
      "tensor(2.2780, grad_fn=<NllLossBackward0>)\n"
     ]
    }
   ],
   "source": [
    "import torch\n",
    "import torch.nn.functional as F\n",
    "\n",
    "\n",
    "def forward(input):\n",
    "    emb = C[input]\n",
    "    h = torch.tanh(emb.view((-1, 6)) @ W1 + b1)\n",
    "    logits = h @ W2 + b2\n",
    "    return logits\n",
    "\n",
    "\n",
    "print(F.cross_entropy(forward(Xtr), Ytr))\n",
    "print(F.cross_entropy(forward(Xval), Yval))"
   ]
  },
  {
   "cell_type": "markdown",
   "metadata": {},
   "source": [
    "### 2. Increase Embedding Size"
   ]
  },
  {
   "cell_type": "markdown",
   "metadata": {},
   "source": [
    "2 -> 10"
   ]
  },
  {
   "cell_type": "code",
   "execution_count": 158,
   "metadata": {},
   "outputs": [
    {
     "name": "stdout",
     "output_type": "stream",
     "text": [
      "Numberr of parameters: 11897\n"
     ]
    }
   ],
   "source": [
    "import torch\n",
    "\n",
    "g = torch.Generator().manual_seed(2147483647)\n",
    "C = torch.randn((27, 10), generator=g, requires_grad=True)\n",
    "W1 = torch.randn((30, 200), generator=g, requires_grad=True)\n",
    "b1 = torch.randn((200,), generator=g, requires_grad=True)\n",
    "W2 = torch.randn((200, 27), generator=g, requires_grad=True)\n",
    "b2 = torch.randn((27,), generator=g, requires_grad=True)\n",
    "parameters = [C, W1, b1, W2, b2]\n",
    "\n",
    "print(f\"Numberr of parameters: {sum(p.nelement() for p in parameters)}\")"
   ]
  },
  {
   "cell_type": "code",
   "execution_count": 165,
   "metadata": {},
   "outputs": [],
   "source": [
    "import torch\n",
    "import torch.nn.functional as F\n",
    "\n",
    "mini_batch_size = 32\n",
    "\n",
    "for _ in range(50000):\n",
    "    mini_batch_idxs = torch.randint(0, Xtr.shape[0], (mini_batch_size,))\n",
    "\n",
    "    # forward\n",
    "    emb = C[Xtr[mini_batch_idxs]]  # (32, 3 ,10)\n",
    "    h = torch.tanh(emb.view((-1, 30)) @ W1 + b1)  # (32, 200)\n",
    "    logits = h @ W2 + b2  # (32, 27)\n",
    "    loss = F.cross_entropy(logits, Ytr[mini_batch_idxs], reduction=\"mean\")\n",
    "\n",
    "    # zero grad\n",
    "    for p in parameters:\n",
    "        p.grad = None\n",
    "    loss.backward()\n",
    "\n",
    "    # update\n",
    "    learning_rate = 0.01\n",
    "    for p in parameters:\n",
    "        p.data += -learning_rate * p.grad"
   ]
  },
  {
   "cell_type": "code",
   "execution_count": 166,
   "metadata": {},
   "outputs": [
    {
     "name": "stdout",
     "output_type": "stream",
     "text": [
      "tensor(2.1683, grad_fn=<NllLossBackward0>)\n",
      "tensor(2.2027, grad_fn=<NllLossBackward0>)\n"
     ]
    }
   ],
   "source": [
    "# loss on training set and validation set start to diverge.\n",
    "# meaning that we are starting to overfit.\n",
    "import torch\n",
    "import torch.nn.functional as F\n",
    "\n",
    "\n",
    "def forward(input):\n",
    "    emb = C[input]\n",
    "    h = torch.tanh(emb.view((-1, 30)) @ W1 + b1)\n",
    "    logits = h @ W2 + b2\n",
    "    return logits\n",
    "\n",
    "\n",
    "print(F.cross_entropy(forward(Xtr), Ytr))\n",
    "print(F.cross_entropy(forward(Xval), Yval))"
   ]
  },
  {
   "cell_type": "markdown",
   "metadata": {},
   "source": [
    "# VI. Sample"
   ]
  },
  {
   "cell_type": "code",
   "execution_count": 167,
   "metadata": {},
   "outputs": [
    {
     "name": "stdout",
     "output_type": "stream",
     "text": [
      "carpah.\n",
      "amille.\n",
      "khiwari.\n",
      "rehty.\n",
      "halaysa.\n",
      "jazonen.\n",
      "den.\n",
      "rha.\n",
      "kaeli.\n",
      "ner.\n"
     ]
    }
   ],
   "source": [
    "import torch\n",
    "\n",
    "g = torch.Generator().manual_seed(2147483647 + 10)\n",
    "\n",
    "for _ in range(10):\n",
    "    output = []\n",
    "    context = [0] * block_size\n",
    "\n",
    "    while True:\n",
    "        emb = C[torch.tensor(context)]  # (1, block_size, embedding_size)\n",
    "        h = torch.tanh(emb.view(1, -1) @ W1 + b1)\n",
    "        logits = h @ W2 + b2\n",
    "        probs = F.softmax(logits, dim=1)\n",
    "\n",
    "        ix = torch.multinomial(probs, num_samples=1, replacement=True, generator=g).item()\n",
    "        context = context[1:] + [ix]\n",
    "\n",
    "        output.append(ix)\n",
    "\n",
    "        if ix == 0:\n",
    "            break\n",
    "\n",
    "    print(\"\".join(itos[i] for i in output))"
   ]
  }
 ],
 "metadata": {
  "kernelspec": {
   "display_name": "karpathy-nlp",
   "language": "python",
   "name": "python3"
  },
  "language_info": {
   "codemirror_mode": {
    "name": "ipython",
    "version": 3
   },
   "file_extension": ".py",
   "mimetype": "text/x-python",
   "name": "python",
   "nbconvert_exporter": "python",
   "pygments_lexer": "ipython3",
   "version": "3.10.13"
  }
 },
 "nbformat": 4,
 "nbformat_minor": 2
}
